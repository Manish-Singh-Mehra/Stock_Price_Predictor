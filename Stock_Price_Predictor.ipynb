{
  "cells": [
    {
      "cell_type": "markdown",
      "metadata": {
        "id": "view-in-github",
        "colab_type": "text"
      },
      "source": [
        "<a href=\"https://colab.research.google.com/github/Manish-Singh-Mehra/Stock_Price_Predictor/blob/main/Stock_Price_Predictor.ipynb\" target=\"_parent\"><img src=\"https://colab.research.google.com/assets/colab-badge.svg\" alt=\"Open In Colab\"/></a>"
      ]
    },
    {
      "cell_type": "code",
      "execution_count": 1,
      "metadata": {
        "id": "-EfSU5jqCvBN"
      },
      "outputs": [],
      "source": [
        "import pandas_datareader as pdr"
      ]
    },
    {
      "cell_type": "code",
      "execution_count": 2,
      "metadata": {
        "id": "Ux8Aqa5_DHff",
        "colab": {
          "base_uri": "https://localhost:8080/"
        },
        "outputId": "4bdcabaf-78c6-497b-e4ae-21f2c4c04f36"
      },
      "outputs": [
        {
          "output_type": "stream",
          "name": "stderr",
          "text": [
            "<ipython-input-2-a352139455d9>:1: FutureWarning: In a future version of pandas all arguments of concat except for the argument 'objs' will be keyword-only.\n",
            "  df = pdr.get_data_tiingo(\"TCS\", api_key='e71b5fcd81a8ba7ee4f00065e6384f604d01b488')\n"
          ]
        }
      ],
      "source": [
        "df = pdr.get_data_tiingo(\"TCS\", api_key='e71b5fcd81a8ba7ee4f00065e6384f604d01b488')"
      ]
    },
    {
      "cell_type": "code",
      "execution_count": 3,
      "metadata": {
        "id": "foFeiDv-GHg3"
      },
      "outputs": [],
      "source": [
        "df.to_csv('TCS.csv')"
      ]
    },
    {
      "cell_type": "code",
      "execution_count": 4,
      "metadata": {
        "id": "2C32WeJYGfIE"
      },
      "outputs": [],
      "source": [
        "import pandas as pd"
      ]
    },
    {
      "cell_type": "code",
      "execution_count": 5,
      "metadata": {
        "id": "AQum_7K5GfCI"
      },
      "outputs": [],
      "source": [
        "df=pd.read_csv('TCS.csv')"
      ]
    },
    {
      "cell_type": "code",
      "execution_count": 6,
      "metadata": {
        "id": "Ynm9szEQGe9c",
        "colab": {
          "base_uri": "https://localhost:8080/",
          "height": 206
        },
        "outputId": "a3194191-1f6b-4611-ae27-92636a16de61"
      },
      "outputs": [
        {
          "output_type": "execute_result",
          "data": {
            "text/plain": [
              "  symbol                       date  close   high    low   open  volume  \\\n",
              "0    TCS  2018-08-29 00:00:00+00:00  11.20  11.23  11.00  11.13  219640   \n",
              "1    TCS  2018-08-30 00:00:00+00:00  11.07  11.20  10.78  11.20  239051   \n",
              "2    TCS  2018-08-31 00:00:00+00:00  11.30  11.47  11.03  11.03  243098   \n",
              "3    TCS  2018-09-04 00:00:00+00:00  11.38  11.62  11.18  11.25  315309   \n",
              "4    TCS  2018-09-05 00:00:00+00:00  11.43  11.52  11.21  11.37  183777   \n",
              "\n",
              "    adjClose    adjHigh     adjLow    adjOpen  adjVolume  divCash  splitFactor  \n",
              "0  10.537465  10.565690  10.349296  10.471606     219640      0.0          1.0  \n",
              "1  10.415155  10.537465  10.142310  10.537465     239051      0.0          1.0  \n",
              "2  10.631549  10.791493  10.377521  10.377521     243098      0.0          1.0  \n",
              "3  10.706817  10.932620  10.518648  10.584507     315309      0.0          1.0  \n",
              "4  10.753859  10.838535  10.546873  10.697408     183777      0.0          1.0  "
            ],
            "text/html": [
              "\n",
              "  <div id=\"df-3cfef00f-18d3-49d7-8c10-701f031943d8\" class=\"colab-df-container\">\n",
              "    <div>\n",
              "<style scoped>\n",
              "    .dataframe tbody tr th:only-of-type {\n",
              "        vertical-align: middle;\n",
              "    }\n",
              "\n",
              "    .dataframe tbody tr th {\n",
              "        vertical-align: top;\n",
              "    }\n",
              "\n",
              "    .dataframe thead th {\n",
              "        text-align: right;\n",
              "    }\n",
              "</style>\n",
              "<table border=\"1\" class=\"dataframe\">\n",
              "  <thead>\n",
              "    <tr style=\"text-align: right;\">\n",
              "      <th></th>\n",
              "      <th>symbol</th>\n",
              "      <th>date</th>\n",
              "      <th>close</th>\n",
              "      <th>high</th>\n",
              "      <th>low</th>\n",
              "      <th>open</th>\n",
              "      <th>volume</th>\n",
              "      <th>adjClose</th>\n",
              "      <th>adjHigh</th>\n",
              "      <th>adjLow</th>\n",
              "      <th>adjOpen</th>\n",
              "      <th>adjVolume</th>\n",
              "      <th>divCash</th>\n",
              "      <th>splitFactor</th>\n",
              "    </tr>\n",
              "  </thead>\n",
              "  <tbody>\n",
              "    <tr>\n",
              "      <th>0</th>\n",
              "      <td>TCS</td>\n",
              "      <td>2018-08-29 00:00:00+00:00</td>\n",
              "      <td>11.20</td>\n",
              "      <td>11.23</td>\n",
              "      <td>11.00</td>\n",
              "      <td>11.13</td>\n",
              "      <td>219640</td>\n",
              "      <td>10.537465</td>\n",
              "      <td>10.565690</td>\n",
              "      <td>10.349296</td>\n",
              "      <td>10.471606</td>\n",
              "      <td>219640</td>\n",
              "      <td>0.0</td>\n",
              "      <td>1.0</td>\n",
              "    </tr>\n",
              "    <tr>\n",
              "      <th>1</th>\n",
              "      <td>TCS</td>\n",
              "      <td>2018-08-30 00:00:00+00:00</td>\n",
              "      <td>11.07</td>\n",
              "      <td>11.20</td>\n",
              "      <td>10.78</td>\n",
              "      <td>11.20</td>\n",
              "      <td>239051</td>\n",
              "      <td>10.415155</td>\n",
              "      <td>10.537465</td>\n",
              "      <td>10.142310</td>\n",
              "      <td>10.537465</td>\n",
              "      <td>239051</td>\n",
              "      <td>0.0</td>\n",
              "      <td>1.0</td>\n",
              "    </tr>\n",
              "    <tr>\n",
              "      <th>2</th>\n",
              "      <td>TCS</td>\n",
              "      <td>2018-08-31 00:00:00+00:00</td>\n",
              "      <td>11.30</td>\n",
              "      <td>11.47</td>\n",
              "      <td>11.03</td>\n",
              "      <td>11.03</td>\n",
              "      <td>243098</td>\n",
              "      <td>10.631549</td>\n",
              "      <td>10.791493</td>\n",
              "      <td>10.377521</td>\n",
              "      <td>10.377521</td>\n",
              "      <td>243098</td>\n",
              "      <td>0.0</td>\n",
              "      <td>1.0</td>\n",
              "    </tr>\n",
              "    <tr>\n",
              "      <th>3</th>\n",
              "      <td>TCS</td>\n",
              "      <td>2018-09-04 00:00:00+00:00</td>\n",
              "      <td>11.38</td>\n",
              "      <td>11.62</td>\n",
              "      <td>11.18</td>\n",
              "      <td>11.25</td>\n",
              "      <td>315309</td>\n",
              "      <td>10.706817</td>\n",
              "      <td>10.932620</td>\n",
              "      <td>10.518648</td>\n",
              "      <td>10.584507</td>\n",
              "      <td>315309</td>\n",
              "      <td>0.0</td>\n",
              "      <td>1.0</td>\n",
              "    </tr>\n",
              "    <tr>\n",
              "      <th>4</th>\n",
              "      <td>TCS</td>\n",
              "      <td>2018-09-05 00:00:00+00:00</td>\n",
              "      <td>11.43</td>\n",
              "      <td>11.52</td>\n",
              "      <td>11.21</td>\n",
              "      <td>11.37</td>\n",
              "      <td>183777</td>\n",
              "      <td>10.753859</td>\n",
              "      <td>10.838535</td>\n",
              "      <td>10.546873</td>\n",
              "      <td>10.697408</td>\n",
              "      <td>183777</td>\n",
              "      <td>0.0</td>\n",
              "      <td>1.0</td>\n",
              "    </tr>\n",
              "  </tbody>\n",
              "</table>\n",
              "</div>\n",
              "    <div class=\"colab-df-buttons\">\n",
              "\n",
              "  <div class=\"colab-df-container\">\n",
              "    <button class=\"colab-df-convert\" onclick=\"convertToInteractive('df-3cfef00f-18d3-49d7-8c10-701f031943d8')\"\n",
              "            title=\"Convert this dataframe to an interactive table.\"\n",
              "            style=\"display:none;\">\n",
              "\n",
              "  <svg xmlns=\"http://www.w3.org/2000/svg\" height=\"24px\" viewBox=\"0 -960 960 960\">\n",
              "    <path d=\"M120-120v-720h720v720H120Zm60-500h600v-160H180v160Zm220 220h160v-160H400v160Zm0 220h160v-160H400v160ZM180-400h160v-160H180v160Zm440 0h160v-160H620v160ZM180-180h160v-160H180v160Zm440 0h160v-160H620v160Z\"/>\n",
              "  </svg>\n",
              "    </button>\n",
              "\n",
              "  <style>\n",
              "    .colab-df-container {\n",
              "      display:flex;\n",
              "      gap: 12px;\n",
              "    }\n",
              "\n",
              "    .colab-df-convert {\n",
              "      background-color: #E8F0FE;\n",
              "      border: none;\n",
              "      border-radius: 50%;\n",
              "      cursor: pointer;\n",
              "      display: none;\n",
              "      fill: #1967D2;\n",
              "      height: 32px;\n",
              "      padding: 0 0 0 0;\n",
              "      width: 32px;\n",
              "    }\n",
              "\n",
              "    .colab-df-convert:hover {\n",
              "      background-color: #E2EBFA;\n",
              "      box-shadow: 0px 1px 2px rgba(60, 64, 67, 0.3), 0px 1px 3px 1px rgba(60, 64, 67, 0.15);\n",
              "      fill: #174EA6;\n",
              "    }\n",
              "\n",
              "    .colab-df-buttons div {\n",
              "      margin-bottom: 4px;\n",
              "    }\n",
              "\n",
              "    [theme=dark] .colab-df-convert {\n",
              "      background-color: #3B4455;\n",
              "      fill: #D2E3FC;\n",
              "    }\n",
              "\n",
              "    [theme=dark] .colab-df-convert:hover {\n",
              "      background-color: #434B5C;\n",
              "      box-shadow: 0px 1px 3px 1px rgba(0, 0, 0, 0.15);\n",
              "      filter: drop-shadow(0px 1px 2px rgba(0, 0, 0, 0.3));\n",
              "      fill: #FFFFFF;\n",
              "    }\n",
              "  </style>\n",
              "\n",
              "    <script>\n",
              "      const buttonEl =\n",
              "        document.querySelector('#df-3cfef00f-18d3-49d7-8c10-701f031943d8 button.colab-df-convert');\n",
              "      buttonEl.style.display =\n",
              "        google.colab.kernel.accessAllowed ? 'block' : 'none';\n",
              "\n",
              "      async function convertToInteractive(key) {\n",
              "        const element = document.querySelector('#df-3cfef00f-18d3-49d7-8c10-701f031943d8');\n",
              "        const dataTable =\n",
              "          await google.colab.kernel.invokeFunction('convertToInteractive',\n",
              "                                                    [key], {});\n",
              "        if (!dataTable) return;\n",
              "\n",
              "        const docLinkHtml = 'Like what you see? Visit the ' +\n",
              "          '<a target=\"_blank\" href=https://colab.research.google.com/notebooks/data_table.ipynb>data table notebook</a>'\n",
              "          + ' to learn more about interactive tables.';\n",
              "        element.innerHTML = '';\n",
              "        dataTable['output_type'] = 'display_data';\n",
              "        await google.colab.output.renderOutput(dataTable, element);\n",
              "        const docLink = document.createElement('div');\n",
              "        docLink.innerHTML = docLinkHtml;\n",
              "        element.appendChild(docLink);\n",
              "      }\n",
              "    </script>\n",
              "  </div>\n",
              "\n",
              "\n",
              "<div id=\"df-32664ebd-d05d-44f0-8e8e-d5ab79dfcfe4\">\n",
              "  <button class=\"colab-df-quickchart\" onclick=\"quickchart('df-32664ebd-d05d-44f0-8e8e-d5ab79dfcfe4')\"\n",
              "            title=\"Suggest charts.\"\n",
              "            style=\"display:none;\">\n",
              "\n",
              "<svg xmlns=\"http://www.w3.org/2000/svg\" height=\"24px\"viewBox=\"0 0 24 24\"\n",
              "     width=\"24px\">\n",
              "    <g>\n",
              "        <path d=\"M19 3H5c-1.1 0-2 .9-2 2v14c0 1.1.9 2 2 2h14c1.1 0 2-.9 2-2V5c0-1.1-.9-2-2-2zM9 17H7v-7h2v7zm4 0h-2V7h2v10zm4 0h-2v-4h2v4z\"/>\n",
              "    </g>\n",
              "</svg>\n",
              "  </button>\n",
              "\n",
              "<style>\n",
              "  .colab-df-quickchart {\n",
              "    background-color: #E8F0FE;\n",
              "    border: none;\n",
              "    border-radius: 50%;\n",
              "    cursor: pointer;\n",
              "    display: none;\n",
              "    fill: #1967D2;\n",
              "    height: 32px;\n",
              "    padding: 0 0 0 0;\n",
              "    width: 32px;\n",
              "  }\n",
              "\n",
              "  .colab-df-quickchart:hover {\n",
              "    background-color: #E2EBFA;\n",
              "    box-shadow: 0px 1px 2px rgba(60, 64, 67, 0.3), 0px 1px 3px 1px rgba(60, 64, 67, 0.15);\n",
              "    fill: #174EA6;\n",
              "  }\n",
              "\n",
              "  [theme=dark] .colab-df-quickchart {\n",
              "    background-color: #3B4455;\n",
              "    fill: #D2E3FC;\n",
              "  }\n",
              "\n",
              "  [theme=dark] .colab-df-quickchart:hover {\n",
              "    background-color: #434B5C;\n",
              "    box-shadow: 0px 1px 3px 1px rgba(0, 0, 0, 0.15);\n",
              "    filter: drop-shadow(0px 1px 2px rgba(0, 0, 0, 0.3));\n",
              "    fill: #FFFFFF;\n",
              "  }\n",
              "</style>\n",
              "\n",
              "  <script>\n",
              "    async function quickchart(key) {\n",
              "      const charts = await google.colab.kernel.invokeFunction(\n",
              "          'suggestCharts', [key], {});\n",
              "    }\n",
              "    (() => {\n",
              "      let quickchartButtonEl =\n",
              "        document.querySelector('#df-32664ebd-d05d-44f0-8e8e-d5ab79dfcfe4 button');\n",
              "      quickchartButtonEl.style.display =\n",
              "        google.colab.kernel.accessAllowed ? 'block' : 'none';\n",
              "    })();\n",
              "  </script>\n",
              "</div>\n",
              "    </div>\n",
              "  </div>\n"
            ]
          },
          "metadata": {},
          "execution_count": 6
        }
      ],
      "source": [
        "df.head()"
      ]
    },
    {
      "cell_type": "code",
      "execution_count": 7,
      "metadata": {
        "id": "Vta3etMUGe6D",
        "colab": {
          "base_uri": "https://localhost:8080/",
          "height": 206
        },
        "outputId": "10ee3cda-8761-4d7d-bb97-71f1056357b5"
      },
      "outputs": [
        {
          "output_type": "execute_result",
          "data": {
            "text/plain": [
              "     symbol                       date  close  high   low  open  volume  \\\n",
              "1251    TCS  2023-08-21 00:00:00+00:00   2.47  2.56  2.46  2.56  260388   \n",
              "1252    TCS  2023-08-22 00:00:00+00:00   2.35  2.48  2.30  2.48  463792   \n",
              "1253    TCS  2023-08-23 00:00:00+00:00   2.30  2.36  2.22  2.35  500143   \n",
              "1254    TCS  2023-08-24 00:00:00+00:00   2.27  2.33  2.27  2.27  233362   \n",
              "1255    TCS  2023-08-25 00:00:00+00:00   2.24  2.29  2.21  2.27  260352   \n",
              "\n",
              "      adjClose  adjHigh  adjLow  adjOpen  adjVolume  divCash  splitFactor  \n",
              "1251      2.47     2.56    2.46     2.56     260388      0.0          1.0  \n",
              "1252      2.35     2.48    2.30     2.48     463792      0.0          1.0  \n",
              "1253      2.30     2.36    2.22     2.35     500143      0.0          1.0  \n",
              "1254      2.27     2.33    2.27     2.27     233362      0.0          1.0  \n",
              "1255      2.24     2.29    2.21     2.27     260352      0.0          1.0  "
            ],
            "text/html": [
              "\n",
              "  <div id=\"df-e97623c0-e355-40ec-a584-4fecbe76b159\" class=\"colab-df-container\">\n",
              "    <div>\n",
              "<style scoped>\n",
              "    .dataframe tbody tr th:only-of-type {\n",
              "        vertical-align: middle;\n",
              "    }\n",
              "\n",
              "    .dataframe tbody tr th {\n",
              "        vertical-align: top;\n",
              "    }\n",
              "\n",
              "    .dataframe thead th {\n",
              "        text-align: right;\n",
              "    }\n",
              "</style>\n",
              "<table border=\"1\" class=\"dataframe\">\n",
              "  <thead>\n",
              "    <tr style=\"text-align: right;\">\n",
              "      <th></th>\n",
              "      <th>symbol</th>\n",
              "      <th>date</th>\n",
              "      <th>close</th>\n",
              "      <th>high</th>\n",
              "      <th>low</th>\n",
              "      <th>open</th>\n",
              "      <th>volume</th>\n",
              "      <th>adjClose</th>\n",
              "      <th>adjHigh</th>\n",
              "      <th>adjLow</th>\n",
              "      <th>adjOpen</th>\n",
              "      <th>adjVolume</th>\n",
              "      <th>divCash</th>\n",
              "      <th>splitFactor</th>\n",
              "    </tr>\n",
              "  </thead>\n",
              "  <tbody>\n",
              "    <tr>\n",
              "      <th>1251</th>\n",
              "      <td>TCS</td>\n",
              "      <td>2023-08-21 00:00:00+00:00</td>\n",
              "      <td>2.47</td>\n",
              "      <td>2.56</td>\n",
              "      <td>2.46</td>\n",
              "      <td>2.56</td>\n",
              "      <td>260388</td>\n",
              "      <td>2.47</td>\n",
              "      <td>2.56</td>\n",
              "      <td>2.46</td>\n",
              "      <td>2.56</td>\n",
              "      <td>260388</td>\n",
              "      <td>0.0</td>\n",
              "      <td>1.0</td>\n",
              "    </tr>\n",
              "    <tr>\n",
              "      <th>1252</th>\n",
              "      <td>TCS</td>\n",
              "      <td>2023-08-22 00:00:00+00:00</td>\n",
              "      <td>2.35</td>\n",
              "      <td>2.48</td>\n",
              "      <td>2.30</td>\n",
              "      <td>2.48</td>\n",
              "      <td>463792</td>\n",
              "      <td>2.35</td>\n",
              "      <td>2.48</td>\n",
              "      <td>2.30</td>\n",
              "      <td>2.48</td>\n",
              "      <td>463792</td>\n",
              "      <td>0.0</td>\n",
              "      <td>1.0</td>\n",
              "    </tr>\n",
              "    <tr>\n",
              "      <th>1253</th>\n",
              "      <td>TCS</td>\n",
              "      <td>2023-08-23 00:00:00+00:00</td>\n",
              "      <td>2.30</td>\n",
              "      <td>2.36</td>\n",
              "      <td>2.22</td>\n",
              "      <td>2.35</td>\n",
              "      <td>500143</td>\n",
              "      <td>2.30</td>\n",
              "      <td>2.36</td>\n",
              "      <td>2.22</td>\n",
              "      <td>2.35</td>\n",
              "      <td>500143</td>\n",
              "      <td>0.0</td>\n",
              "      <td>1.0</td>\n",
              "    </tr>\n",
              "    <tr>\n",
              "      <th>1254</th>\n",
              "      <td>TCS</td>\n",
              "      <td>2023-08-24 00:00:00+00:00</td>\n",
              "      <td>2.27</td>\n",
              "      <td>2.33</td>\n",
              "      <td>2.27</td>\n",
              "      <td>2.27</td>\n",
              "      <td>233362</td>\n",
              "      <td>2.27</td>\n",
              "      <td>2.33</td>\n",
              "      <td>2.27</td>\n",
              "      <td>2.27</td>\n",
              "      <td>233362</td>\n",
              "      <td>0.0</td>\n",
              "      <td>1.0</td>\n",
              "    </tr>\n",
              "    <tr>\n",
              "      <th>1255</th>\n",
              "      <td>TCS</td>\n",
              "      <td>2023-08-25 00:00:00+00:00</td>\n",
              "      <td>2.24</td>\n",
              "      <td>2.29</td>\n",
              "      <td>2.21</td>\n",
              "      <td>2.27</td>\n",
              "      <td>260352</td>\n",
              "      <td>2.24</td>\n",
              "      <td>2.29</td>\n",
              "      <td>2.21</td>\n",
              "      <td>2.27</td>\n",
              "      <td>260352</td>\n",
              "      <td>0.0</td>\n",
              "      <td>1.0</td>\n",
              "    </tr>\n",
              "  </tbody>\n",
              "</table>\n",
              "</div>\n",
              "    <div class=\"colab-df-buttons\">\n",
              "\n",
              "  <div class=\"colab-df-container\">\n",
              "    <button class=\"colab-df-convert\" onclick=\"convertToInteractive('df-e97623c0-e355-40ec-a584-4fecbe76b159')\"\n",
              "            title=\"Convert this dataframe to an interactive table.\"\n",
              "            style=\"display:none;\">\n",
              "\n",
              "  <svg xmlns=\"http://www.w3.org/2000/svg\" height=\"24px\" viewBox=\"0 -960 960 960\">\n",
              "    <path d=\"M120-120v-720h720v720H120Zm60-500h600v-160H180v160Zm220 220h160v-160H400v160Zm0 220h160v-160H400v160ZM180-400h160v-160H180v160Zm440 0h160v-160H620v160ZM180-180h160v-160H180v160Zm440 0h160v-160H620v160Z\"/>\n",
              "  </svg>\n",
              "    </button>\n",
              "\n",
              "  <style>\n",
              "    .colab-df-container {\n",
              "      display:flex;\n",
              "      gap: 12px;\n",
              "    }\n",
              "\n",
              "    .colab-df-convert {\n",
              "      background-color: #E8F0FE;\n",
              "      border: none;\n",
              "      border-radius: 50%;\n",
              "      cursor: pointer;\n",
              "      display: none;\n",
              "      fill: #1967D2;\n",
              "      height: 32px;\n",
              "      padding: 0 0 0 0;\n",
              "      width: 32px;\n",
              "    }\n",
              "\n",
              "    .colab-df-convert:hover {\n",
              "      background-color: #E2EBFA;\n",
              "      box-shadow: 0px 1px 2px rgba(60, 64, 67, 0.3), 0px 1px 3px 1px rgba(60, 64, 67, 0.15);\n",
              "      fill: #174EA6;\n",
              "    }\n",
              "\n",
              "    .colab-df-buttons div {\n",
              "      margin-bottom: 4px;\n",
              "    }\n",
              "\n",
              "    [theme=dark] .colab-df-convert {\n",
              "      background-color: #3B4455;\n",
              "      fill: #D2E3FC;\n",
              "    }\n",
              "\n",
              "    [theme=dark] .colab-df-convert:hover {\n",
              "      background-color: #434B5C;\n",
              "      box-shadow: 0px 1px 3px 1px rgba(0, 0, 0, 0.15);\n",
              "      filter: drop-shadow(0px 1px 2px rgba(0, 0, 0, 0.3));\n",
              "      fill: #FFFFFF;\n",
              "    }\n",
              "  </style>\n",
              "\n",
              "    <script>\n",
              "      const buttonEl =\n",
              "        document.querySelector('#df-e97623c0-e355-40ec-a584-4fecbe76b159 button.colab-df-convert');\n",
              "      buttonEl.style.display =\n",
              "        google.colab.kernel.accessAllowed ? 'block' : 'none';\n",
              "\n",
              "      async function convertToInteractive(key) {\n",
              "        const element = document.querySelector('#df-e97623c0-e355-40ec-a584-4fecbe76b159');\n",
              "        const dataTable =\n",
              "          await google.colab.kernel.invokeFunction('convertToInteractive',\n",
              "                                                    [key], {});\n",
              "        if (!dataTable) return;\n",
              "\n",
              "        const docLinkHtml = 'Like what you see? Visit the ' +\n",
              "          '<a target=\"_blank\" href=https://colab.research.google.com/notebooks/data_table.ipynb>data table notebook</a>'\n",
              "          + ' to learn more about interactive tables.';\n",
              "        element.innerHTML = '';\n",
              "        dataTable['output_type'] = 'display_data';\n",
              "        await google.colab.output.renderOutput(dataTable, element);\n",
              "        const docLink = document.createElement('div');\n",
              "        docLink.innerHTML = docLinkHtml;\n",
              "        element.appendChild(docLink);\n",
              "      }\n",
              "    </script>\n",
              "  </div>\n",
              "\n",
              "\n",
              "<div id=\"df-e5ca5e3c-e80b-4262-bee3-53de40cd7ef4\">\n",
              "  <button class=\"colab-df-quickchart\" onclick=\"quickchart('df-e5ca5e3c-e80b-4262-bee3-53de40cd7ef4')\"\n",
              "            title=\"Suggest charts.\"\n",
              "            style=\"display:none;\">\n",
              "\n",
              "<svg xmlns=\"http://www.w3.org/2000/svg\" height=\"24px\"viewBox=\"0 0 24 24\"\n",
              "     width=\"24px\">\n",
              "    <g>\n",
              "        <path d=\"M19 3H5c-1.1 0-2 .9-2 2v14c0 1.1.9 2 2 2h14c1.1 0 2-.9 2-2V5c0-1.1-.9-2-2-2zM9 17H7v-7h2v7zm4 0h-2V7h2v10zm4 0h-2v-4h2v4z\"/>\n",
              "    </g>\n",
              "</svg>\n",
              "  </button>\n",
              "\n",
              "<style>\n",
              "  .colab-df-quickchart {\n",
              "    background-color: #E8F0FE;\n",
              "    border: none;\n",
              "    border-radius: 50%;\n",
              "    cursor: pointer;\n",
              "    display: none;\n",
              "    fill: #1967D2;\n",
              "    height: 32px;\n",
              "    padding: 0 0 0 0;\n",
              "    width: 32px;\n",
              "  }\n",
              "\n",
              "  .colab-df-quickchart:hover {\n",
              "    background-color: #E2EBFA;\n",
              "    box-shadow: 0px 1px 2px rgba(60, 64, 67, 0.3), 0px 1px 3px 1px rgba(60, 64, 67, 0.15);\n",
              "    fill: #174EA6;\n",
              "  }\n",
              "\n",
              "  [theme=dark] .colab-df-quickchart {\n",
              "    background-color: #3B4455;\n",
              "    fill: #D2E3FC;\n",
              "  }\n",
              "\n",
              "  [theme=dark] .colab-df-quickchart:hover {\n",
              "    background-color: #434B5C;\n",
              "    box-shadow: 0px 1px 3px 1px rgba(0, 0, 0, 0.15);\n",
              "    filter: drop-shadow(0px 1px 2px rgba(0, 0, 0, 0.3));\n",
              "    fill: #FFFFFF;\n",
              "  }\n",
              "</style>\n",
              "\n",
              "  <script>\n",
              "    async function quickchart(key) {\n",
              "      const charts = await google.colab.kernel.invokeFunction(\n",
              "          'suggestCharts', [key], {});\n",
              "    }\n",
              "    (() => {\n",
              "      let quickchartButtonEl =\n",
              "        document.querySelector('#df-e5ca5e3c-e80b-4262-bee3-53de40cd7ef4 button');\n",
              "      quickchartButtonEl.style.display =\n",
              "        google.colab.kernel.accessAllowed ? 'block' : 'none';\n",
              "    })();\n",
              "  </script>\n",
              "</div>\n",
              "    </div>\n",
              "  </div>\n"
            ]
          },
          "metadata": {},
          "execution_count": 7
        }
      ],
      "source": [
        "df.tail()"
      ]
    },
    {
      "cell_type": "code",
      "execution_count": 8,
      "metadata": {
        "id": "CFhcwQR0Ge3Q"
      },
      "outputs": [],
      "source": [
        "df1=df.reset_index()['close']"
      ]
    },
    {
      "cell_type": "code",
      "execution_count": 9,
      "metadata": {
        "id": "_eDMKj8AGecb",
        "colab": {
          "base_uri": "https://localhost:8080/"
        },
        "outputId": "bbbcdb51-cfd8-4ad3-c88e-e3929a7d6eb0"
      },
      "outputs": [
        {
          "output_type": "execute_result",
          "data": {
            "text/plain": [
              "(1256,)"
            ]
          },
          "metadata": {},
          "execution_count": 9
        }
      ],
      "source": [
        "df1.shape"
      ]
    },
    {
      "cell_type": "code",
      "execution_count": 10,
      "metadata": {
        "id": "svwaTg5aHwnF",
        "colab": {
          "base_uri": "https://localhost:8080/",
          "height": 452
        },
        "outputId": "b4177c1f-a17d-444b-93c3-7aa779b1fe32"
      },
      "outputs": [
        {
          "output_type": "execute_result",
          "data": {
            "text/plain": [
              "[<matplotlib.lines.Line2D at 0x7cda36356e30>]"
            ]
          },
          "metadata": {},
          "execution_count": 10
        },
        {
          "output_type": "display_data",
          "data": {
            "text/plain": [
              "<Figure size 640x480 with 1 Axes>"
            ],
            "image/png": "[encoded data removed]"
          },
          "metadata": {}
        }
      ],
      "source": [
        "import matplotlib.pyplot as plt\n",
        "plt.plot(df1)"
      ]
    },
    {
      "cell_type": "markdown",
      "source": [
        "  Since,we are using LSTM model and LSTM models are very senstive to scale data. That's why we are using MinMax scaler function."
      ],
      "metadata": {
        "id": "9rhy5XjnKISG"
      }
    },
    {
      "cell_type": "code",
      "execution_count": 11,
      "metadata": {
        "id": "WHul-wJOHwjZ"
      },
      "outputs": [],
      "source": [
        "import numpy as np\n",
        "from sklearn.preprocessing import MinMaxScaler\n",
        "scaler = MinMaxScaler(feature_range=(0,1))\n",
        "df1 = scaler.fit_transform(np.array(df1).reshape(-1,1))"
      ]
    },
    {
      "cell_type": "code",
      "execution_count": 12,
      "metadata": {
        "id": "DVA8nOrCHwgO",
        "colab": {
          "base_uri": "https://localhost:8080/"
        },
        "outputId": "526f1ade-7ab3-4952-e3f0-0d97c3c288c3"
      },
      "outputs": [
        {
          "output_type": "execute_result",
          "data": {
            "text/plain": [
              "(1256, 1)"
            ]
          },
          "metadata": {},
          "execution_count": 12
        }
      ],
      "source": [
        "df1.shape"
      ]
    },
    {
      "cell_type": "markdown",
      "metadata": {
        "id": "yIdk1eIVK_ZK"
      },
      "source": [
        "This part contain train and test data set for our machine learning algorithm"
      ]
    },
    {
      "cell_type": "code",
      "execution_count": 33,
      "metadata": {
        "id": "PVfw7MLdHwdr"
      },
      "outputs": [],
      "source": [
        "training_size=int(len(df1)*0.65)\n",
        "test_size=len(df1)-training_size\n",
        "train_data, test_data= df1[0:training_size,:],df1[training_size:len(df1),:1]"
      ]
    },
    {
      "cell_type": "code",
      "execution_count": 34,
      "metadata": {
        "id": "pS5SQht4K9JF",
        "colab": {
          "base_uri": "https://localhost:8080/"
        },
        "outputId": "fca7a16e-405f-46fa-fe75-2e31e821018d"
      },
      "outputs": [
        {
          "output_type": "execute_result",
          "data": {
            "text/plain": [
              "(816, 440)"
            ]
          },
          "metadata": {},
          "execution_count": 34
        }
      ],
      "source": [
        "training_size,test_size"
      ]
    },
    {
      "cell_type": "markdown",
      "metadata": {
        "id": "2BfhVPpSLg9N"
      },
      "source": [
        "Converting above array values in dataset matrix"
      ]
    },
    {
      "cell_type": "code",
      "execution_count": 15,
      "metadata": {
        "id": "ExstMGQDHwak"
      },
      "outputs": [],
      "source": [
        "import numpy\n",
        "def create_dataset(dataset, time_step=1):\n",
        "  datax, datay = [],[]\n",
        "  for i in range(len(dataset)-time_step-1):\n",
        "    a = dataset[i:(i+time_step), 0]\n",
        "    datax.append(a)\n",
        "    datay.append(dataset[i+ time_step,0])\n",
        "  return numpy.array(datax), numpy.array(datay)"
      ]
    },
    {
      "cell_type": "code",
      "execution_count": 16,
      "metadata": {
        "id": "K_gg0ab9HwXK"
      },
      "outputs": [],
      "source": [
        "time_step=100\n",
        "x_train, y_train = create_dataset(train_data, time_step)\n",
        "x_test, y_test = create_dataset(test_data, time_step)"
      ]
    },
    {
      "cell_type": "code",
      "execution_count": 17,
      "metadata": {
        "id": "Ah2vW59Sibqr",
        "colab": {
          "base_uri": "https://localhost:8080/"
        },
        "outputId": "d01366b6-c04d-4b80-e4bd-65072df8f846"
      },
      "outputs": [
        {
          "output_type": "stream",
          "name": "stdout",
          "text": [
            "(715, 100)\n",
            "(715,)\n"
          ]
        },
        {
          "output_type": "execute_result",
          "data": {
            "text/plain": [
              "(None, None)"
            ]
          },
          "metadata": {},
          "execution_count": 17
        }
      ],
      "source": [
        "print(x_train.shape),print(y_train.shape)"
      ]
    },
    {
      "cell_type": "code",
      "execution_count": 35,
      "metadata": {
        "id": "vGpO6Pq_HwLc",
        "colab": {
          "base_uri": "https://localhost:8080/"
        },
        "outputId": "8977f822-d6f3-4699-9f76-6b0b1498eb57"
      },
      "outputs": [
        {
          "output_type": "stream",
          "name": "stdout",
          "text": [
            "(339, 100, 1)\n",
            "(339,)\n"
          ]
        }
      ],
      "source": [
        "print(x_test.shape)\n",
        "print(y_test.shape)"
      ]
    },
    {
      "cell_type": "code",
      "execution_count": 19,
      "metadata": {
        "id": "gLvoy1OiSzz0"
      },
      "outputs": [],
      "source": [
        "x_train=x_train.reshape(x_train.shape[0],x_train.shape[1],1)\n",
        "x_test=x_test.reshape(x_test.shape[0],x_test.shape[1],1)"
      ]
    },
    {
      "cell_type": "code",
      "source": [
        "x_test.shape"
      ],
      "metadata": {
        "colab": {
          "base_uri": "https://localhost:8080/"
        },
        "id": "n3A-vR7kTHJk",
        "outputId": "9ed9cbe7-9fbf-4846-f7a5-ce595d681e0b"
      },
      "execution_count": 37,
      "outputs": [
        {
          "output_type": "execute_result",
          "data": {
            "text/plain": [
              "(339, 100, 1)"
            ]
          },
          "metadata": {},
          "execution_count": 37
        }
      ]
    },
    {
      "cell_type": "markdown",
      "metadata": {
        "id": "IaVfM-lrOLrG"
      },
      "source": [
        "Data preprocessing is completed"
      ]
    },
    {
      "cell_type": "markdown",
      "metadata": {
        "id": "j-1ubY8MOSU7"
      },
      "source": [
        "Now, Creating a Stacked LSTM model with the help of tensorflow"
      ]
    },
    {
      "cell_type": "code",
      "execution_count": 20,
      "metadata": {
        "id": "nRRJAl55ORvp"
      },
      "outputs": [],
      "source": [
        "from tensorflow.keras.models import Sequential\n",
        "from tensorflow.keras.layers import Dense\n",
        "from tensorflow.keras.layers import LSTM"
      ]
    },
    {
      "cell_type": "code",
      "execution_count": 21,
      "metadata": {
        "id": "ihbCc-MVM-JQ"
      },
      "outputs": [],
      "source": [
        "model=Sequential()\n",
        "model.add(LSTM(units=50, return_sequences=True, input_shape=(x_train.shape[1],1)))\n",
        "model.add(LSTM(units=50,return_sequences=True))\n",
        "model.add(LSTM(units=50))\n",
        "model.add(Dense(1))\n",
        "model.compile(loss='mean_squared_error', optimizer='adam')"
      ]
    },
    {
      "cell_type": "code",
      "execution_count": 22,
      "metadata": {
        "id": "Q9yTbEQpM_8W",
        "colab": {
          "base_uri": "https://localhost:8080/"
        },
        "outputId": "835c2a8b-bcc9-4ce0-f477-b7c62238d942"
      },
      "outputs": [
        {
          "output_type": "stream",
          "name": "stdout",
          "text": [
            "Model: \"sequential\"\n",
            "_________________________________________________________________\n",
            " Layer (type)                Output Shape              Param #   \n",
            "=================================================================\n",
            " lstm (LSTM)                 (None, 100, 50)           10400     \n",
            "                                                                 \n",
            " lstm_1 (LSTM)               (None, 100, 50)           20200     \n",
            "                                                                 \n",
            " lstm_2 (LSTM)               (None, 50)                20200     \n",
            "                                                                 \n",
            " dense (Dense)               (None, 1)                 51        \n",
            "                                                                 \n",
            "=================================================================\n",
            "Total params: 50,851\n",
            "Trainable params: 50,851\n",
            "Non-trainable params: 0\n",
            "_________________________________________________________________\n"
          ]
        }
      ],
      "source": [
        "model.summary()"
      ]
    },
    {
      "cell_type": "code",
      "execution_count": null,
      "metadata": {
        "id": "BGIhHypVM_5X"
      },
      "outputs": [],
      "source": [
        "model.fit(x_train,y_train,validation_data=(x_test,y_test),epochs=120,batch_size=99, verbose=1)"
      ]
    },
    {
      "cell_type": "markdown",
      "metadata": {
        "id": "hq_YDht5XFR-"
      },
      "source": [
        "now We have trained our data this is the time for some data prediction"
      ]
    },
    {
      "cell_type": "code",
      "execution_count": 39,
      "metadata": {
        "id": "aotIjOKbM_2R",
        "colab": {
          "base_uri": "https://localhost:8080/"
        },
        "outputId": "8edc01ee-e09e-4be9-8c68-1a90cc3eafdf"
      },
      "outputs": [
        {
          "output_type": "stream",
          "name": "stdout",
          "text": [
            "23/23 [==============================] - 0s 5ms/step\n",
            "11/11 [==============================] - 0s 5ms/step\n"
          ]
        }
      ],
      "source": [
        "train_predict=model.predict(x_train)\n",
        "test_predict=model.predict(x_test)"
      ]
    },
    {
      "cell_type": "code",
      "execution_count": 40,
      "metadata": {
        "id": "bu3_hCyxM_y-"
      },
      "outputs": [],
      "source": [
        "train_predict=scaler.inverse_transform(train_predict)\n",
        "test_predict=scaler.inverse_transform(test_predict)"
      ]
    },
    {
      "cell_type": "code",
      "execution_count": 41,
      "metadata": {
        "id": "dJ8K0mR8M_wo",
        "colab": {
          "base_uri": "https://localhost:8080/"
        },
        "outputId": "d8338a85-ea7e-4bae-de36-d5dbae49c429"
      },
      "outputs": [
        {
          "output_type": "execute_result",
          "data": {
            "text/plain": [
              "8.719087930642202"
            ]
          },
          "metadata": {},
          "execution_count": 41
        }
      ],
      "source": [
        "import math\n",
        "from sklearn.metrics import mean_squared_error\n",
        "rmse=math.sqrt(mean_squared_error(y_train,train_predict))\n",
        "rmse"
      ]
    },
    {
      "cell_type": "code",
      "execution_count": 42,
      "metadata": {
        "id": "e9J3kgr7_MvF",
        "colab": {
          "base_uri": "https://localhost:8080/"
        },
        "outputId": "b9f79815-8b64-4a4b-9e2b-b16314f4110e"
      },
      "outputs": [
        {
          "output_type": "execute_result",
          "data": {
            "text/plain": [
              "5.222693122799639"
            ]
          },
          "metadata": {},
          "execution_count": 42
        }
      ],
      "source": [
        "mape = math.sqrt(mean_squared_error(y_test,test_predict))\n",
        "mape"
      ]
    },
    {
      "cell_type": "code",
      "execution_count": 43,
      "metadata": {
        "id": "hsYgmDTJBglL",
        "colab": {
          "base_uri": "https://localhost:8080/"
        },
        "outputId": "6669f21e-3c2f-404c-cbf8-083df7c5c374"
      },
      "outputs": [
        {
          "output_type": "execute_result",
          "data": {
            "text/plain": [
              "40.10046504468543"
            ]
          },
          "metadata": {},
          "execution_count": 43
        }
      ],
      "source": [
        "accuracy = np.abs((rmse-mape)/rmse)*100\n",
        "accuracy"
      ]
    },
    {
      "cell_type": "code",
      "execution_count": 44,
      "metadata": {
        "id": "MQioJmPOM_pw",
        "colab": {
          "base_uri": "https://localhost:8080/",
          "height": 434
        },
        "outputId": "9bd24368-1b7c-4373-d441-6ec9265e935a"
      },
      "outputs": [
        {
          "output_type": "display_data",
          "data": {
            "text/plain": [
              "<Figure size 640x480 with 1 Axes>"
            ],
            "image/png": "[encoded data removed]"
          },
          "metadata": {}
        }
      ],
      "source": [
        "look_back=100\n",
        "trainPredictPlot= numpy.empty_like(df1)\n",
        "trainPredictPlot[:, :]=np.nan\n",
        "trainPredictPlot[look_back:len(train_predict)+look_back, :] = train_predict\n",
        "testPredictPlot= numpy.empty_like(df1)\n",
        "testPredictPlot[:, :]=np.nan\n",
        "testPredictPlot[len(train_predict)+(look_back*2)+1:len(df1)-1, :]= test_predict\n",
        "plt.plot(scaler.inverse_transform(df1))\n",
        "plt.plot(trainPredictPlot)\n",
        "plt.plot(testPredictPlot, color='red')\n",
        "plt.show()"
      ]
    },
    {
      "cell_type": "code",
      "source": [
        "len(test_data)"
      ],
      "metadata": {
        "colab": {
          "base_uri": "https://localhost:8080/"
        },
        "id": "mhLjWZYVVeJW",
        "outputId": "e6144674-c042-4037-c35a-50226a810c31"
      },
      "execution_count": 45,
      "outputs": [
        {
          "output_type": "execute_result",
          "data": {
            "text/plain": [
              "440"
            ]
          },
          "metadata": {},
          "execution_count": 45
        }
      ]
    },
    {
      "cell_type": "code",
      "source": [
        "x_input = test_data[-100:].reshape(1,-1)\n",
        "x_input.shape"
      ],
      "metadata": {
        "colab": {
          "base_uri": "https://localhost:8080/"
        },
        "id": "Rw3nDdX0WPyV",
        "outputId": "8dc88b65-4bb2-4666-eb03-36659ed32700"
      },
      "execution_count": 48,
      "outputs": [
        {
          "output_type": "execute_result",
          "data": {
            "text/plain": [
              "(1, 100)"
            ]
          },
          "metadata": {},
          "execution_count": 48
        }
      ]
    },
    {
      "cell_type": "code",
      "source": [
        "temp_input = list(x_input)\n",
        "temp_input = temp_input[0].tolist()"
      ],
      "metadata": {
        "id": "fiZnMV0VXaMc"
      },
      "execution_count": 49,
      "outputs": []
    },
    {
      "cell_type": "code",
      "source": [
        "np.shape(temp_input)"
      ],
      "metadata": {
        "colab": {
          "base_uri": "https://localhost:8080/"
        },
        "id": "mlJ76LlxX8Gz",
        "outputId": "355b61a1-a577-48bc-98ae-447c305cab25"
      },
      "execution_count": 53,
      "outputs": [
        {
          "output_type": "execute_result",
          "data": {
            "text/plain": [
              "(100,)"
            ]
          },
          "metadata": {},
          "execution_count": 53
        }
      ]
    },
    {
      "cell_type": "code",
      "source": [
        "from numpy import array\n",
        "\n",
        "list_output = []\n",
        "n_steps = 100\n",
        "i = 0\n",
        "while(i<30):\n",
        "  if(len(temp_input)>100):\n",
        "    x_input = np.array(temp_input[1:])\n",
        "    print('{} day input {}'.format(i,x_input))\n",
        "    x_input = x_input.reshape(1,-1)\n",
        "    x_input = x_input.reshape((1, n_steps, 1))\n",
        "    y_hat = model.predict(x_input, verbose = 0)\n",
        "    print('{} day input {}'.format(i,y_hat))\n",
        "    temp_input.extend(y_hat[0].tolist())\n",
        "    temp_input = temp_input[1:]\n",
        "    list_output.extend(y_hat.tolist())\n",
        "    i = i+1\n",
        "\n",
        "  else:\n",
        "    x_input = x_input.reshape((1, n_steps, 1))\n",
        "    y_hat = model.predict(x_input, verbose = 0)\n",
        "    print(y_hat[0])\n",
        "    temp_input.extend(y_hat[0].tolist())\n",
        "    print(len(temp_input))\n",
        "    list_output.extend(y_hat.tolist())\n",
        "    i = i+1\n",
        "print(list_output)"
      ],
      "metadata": {
        "colab": {
          "base_uri": "https://localhost:8080/"
        },
        "id": "O4b3AfTPYAOK",
        "outputId": "1008069b-4a95-478c-fe7a-a618e1a99828"
      },
      "execution_count": 58,
      "outputs": [
        {
          "output_type": "stream",
          "name": "stdout",
          "text": [
            "0 day input [0.03023256 0.01453488 0.01395349 0.0244186  0.02383721 0.01686047\n",
            " 0.02093023 0.02790698 0.02732558 0.02848837 0.04244186 0.04767442\n",
            " 0.05232558 0.06569767 0.08372093 0.06511628 0.05988372 0.06104651\n",
            " 0.05465116 0.06046512 0.05290698 0.05465116 0.04825581 0.05290698\n",
            " 0.05348837 0.06627907 0.06686047 0.05988372 0.06627907 0.06686047\n",
            " 0.07616279 0.06511628 0.06627907 0.06860465 0.07209302 0.07616279\n",
            " 0.07034884 0.07383721 0.07383721 0.07151163 0.07034884 0.0872093\n",
            " 0.07093023 0.07151163 0.07790698 0.07790698 0.08430233 0.08488372\n",
            " 0.08546512 0.09709302 0.09767442 0.04011628 0.02906977 0.03604651\n",
            " 0.03313953 0.03372093 0.03662791 0.03895349 0.03837209 0.03430233\n",
            " 0.03313953 0.03081395 0.03197674 0.03197674 0.02790698 0.02093023\n",
            " 0.01802326 0.01627907 0.01453488 0.02089494 0.02232054 0.02512229\n",
            " 0.02835788 0.03171764 0.0350794  0.03838256 0.04160159 0.04473755\n",
            " 0.04781043 0.05085112 0.05389409 0.05697183 0.06011093 0.06333015\n",
            " 0.06663997 0.0700435  0.07353782 0.07711623 0.08076981 0.08448938\n",
            " 0.08826672 0.09209562 0.09597217 0.099895   0.10386508 0.10788535\n",
            " 0.11195998 0.11609432 0.12029403 0.12456483]\n",
            "0 day input [[0.12891234]]\n",
            "1 day input [0.01453488 0.01395349 0.0244186  0.02383721 0.01686047 0.02093023\n",
            " 0.02790698 0.02732558 0.02848837 0.04244186 0.04767442 0.05232558\n",
            " 0.06569767 0.08372093 0.06511628 0.05988372 0.06104651 0.05465116\n",
            " 0.06046512 0.05290698 0.05465116 0.04825581 0.05290698 0.05348837\n",
            " 0.06627907 0.06686047 0.05988372 0.06627907 0.06686047 0.07616279\n",
            " 0.06511628 0.06627907 0.06860465 0.07209302 0.07616279 0.07034884\n",
            " 0.07383721 0.07383721 0.07151163 0.07034884 0.0872093  0.07093023\n",
            " 0.07151163 0.07790698 0.07790698 0.08430233 0.08488372 0.08546512\n",
            " 0.09709302 0.09767442 0.04011628 0.02906977 0.03604651 0.03313953\n",
            " 0.03372093 0.03662791 0.03895349 0.03837209 0.03430233 0.03313953\n",
            " 0.03081395 0.03197674 0.03197674 0.02790698 0.02093023 0.01802326\n",
            " 0.01627907 0.01453488 0.02089494 0.02232054 0.02512229 0.02835788\n",
            " 0.03171764 0.0350794  0.03838256 0.04160159 0.04473755 0.04781043\n",
            " 0.05085112 0.05389409 0.05697183 0.06011093 0.06333015 0.06663997\n",
            " 0.0700435  0.07353782 0.07711623 0.08076981 0.08448938 0.08826672\n",
            " 0.09209562 0.09597217 0.099895   0.10386508 0.10788535 0.11195998\n",
            " 0.11609432 0.12029403 0.12456483 0.12891234]\n",
            "1 day input [[0.1333419]]\n",
            "2 day input [0.01395349 0.0244186  0.02383721 0.01686047 0.02093023 0.02790698\n",
            " 0.02732558 0.02848837 0.04244186 0.04767442 0.05232558 0.06569767\n",
            " 0.08372093 0.06511628 0.05988372 0.06104651 0.05465116 0.06046512\n",
            " 0.05290698 0.05465116 0.04825581 0.05290698 0.05348837 0.06627907\n",
            " 0.06686047 0.05988372 0.06627907 0.06686047 0.07616279 0.06511628\n",
            " 0.06627907 0.06860465 0.07209302 0.07616279 0.07034884 0.07383721\n",
            " 0.07383721 0.07151163 0.07034884 0.0872093  0.07093023 0.07151163\n",
            " 0.07790698 0.07790698 0.08430233 0.08488372 0.08546512 0.09709302\n",
            " 0.09767442 0.04011628 0.02906977 0.03604651 0.03313953 0.03372093\n",
            " 0.03662791 0.03895349 0.03837209 0.03430233 0.03313953 0.03081395\n",
            " 0.03197674 0.03197674 0.02790698 0.02093023 0.01802326 0.01627907\n",
            " 0.01453488 0.02089494 0.02232054 0.02512229 0.02835788 0.03171764\n",
            " 0.0350794  0.03838256 0.04160159 0.04473755 0.04781043 0.05085112\n",
            " 0.05389409 0.05697183 0.06011093 0.06333015 0.06663997 0.0700435\n",
            " 0.07353782 0.07711623 0.08076981 0.08448938 0.08826672 0.09209562\n",
            " 0.09597217 0.099895   0.10386508 0.10788535 0.11195998 0.11609432\n",
            " 0.12029403 0.12456483 0.12891234 0.13334189]\n",
            "2 day input [[0.1378585]]\n",
            "3 day input [0.0244186  0.02383721 0.01686047 0.02093023 0.02790698 0.02732558\n",
            " 0.02848837 0.04244186 0.04767442 0.05232558 0.06569767 0.08372093\n",
            " 0.06511628 0.05988372 0.06104651 0.05465116 0.06046512 0.05290698\n",
            " 0.05465116 0.04825581 0.05290698 0.05348837 0.06627907 0.06686047\n",
            " 0.05988372 0.06627907 0.06686047 0.07616279 0.06511628 0.06627907\n",
            " 0.06860465 0.07209302 0.07616279 0.07034884 0.07383721 0.07383721\n",
            " 0.07151163 0.07034884 0.0872093  0.07093023 0.07151163 0.07790698\n",
            " 0.07790698 0.08430233 0.08488372 0.08546512 0.09709302 0.09767442\n",
            " 0.04011628 0.02906977 0.03604651 0.03313953 0.03372093 0.03662791\n",
            " 0.03895349 0.03837209 0.03430233 0.03313953 0.03081395 0.03197674\n",
            " 0.03197674 0.02790698 0.02093023 0.01802326 0.01627907 0.01453488\n",
            " 0.02089494 0.02232054 0.02512229 0.02835788 0.03171764 0.0350794\n",
            " 0.03838256 0.04160159 0.04473755 0.04781043 0.05085112 0.05389409\n",
            " 0.05697183 0.06011093 0.06333015 0.06663997 0.0700435  0.07353782\n",
            " 0.07711623 0.08076981 0.08448938 0.08826672 0.09209562 0.09597217\n",
            " 0.099895   0.10386508 0.10788535 0.11195998 0.11609432 0.12029403\n",
            " 0.12456483 0.12891234 0.13334189 0.1378585 ]\n",
            "3 day input [[0.14246686]]\n",
            "4 day input [0.02383721 0.01686047 0.02093023 0.02790698 0.02732558 0.02848837\n",
            " 0.04244186 0.04767442 0.05232558 0.06569767 0.08372093 0.06511628\n",
            " 0.05988372 0.06104651 0.05465116 0.06046512 0.05290698 0.05465116\n",
            " 0.04825581 0.05290698 0.05348837 0.06627907 0.06686047 0.05988372\n",
            " 0.06627907 0.06686047 0.07616279 0.06511628 0.06627907 0.06860465\n",
            " 0.07209302 0.07616279 0.07034884 0.07383721 0.07383721 0.07151163\n",
            " 0.07034884 0.0872093  0.07093023 0.07151163 0.07790698 0.07790698\n",
            " 0.08430233 0.08488372 0.08546512 0.09709302 0.09767442 0.04011628\n",
            " 0.02906977 0.03604651 0.03313953 0.03372093 0.03662791 0.03895349\n",
            " 0.03837209 0.03430233 0.03313953 0.03081395 0.03197674 0.03197674\n",
            " 0.02790698 0.02093023 0.01802326 0.01627907 0.01453488 0.02089494\n",
            " 0.02232054 0.02512229 0.02835788 0.03171764 0.0350794  0.03838256\n",
            " 0.04160159 0.04473755 0.04781043 0.05085112 0.05389409 0.05697183\n",
            " 0.06011093 0.06333015 0.06663997 0.0700435  0.07353782 0.07711623\n",
            " 0.08076981 0.08448938 0.08826672 0.09209562 0.09597217 0.099895\n",
            " 0.10386508 0.10788535 0.11195998 0.11609432 0.12029403 0.12456483\n",
            " 0.12891234 0.13334189 0.1378585  0.14246686]\n",
            "4 day input [[0.14717159]]\n",
            "5 day input [0.01686047 0.02093023 0.02790698 0.02732558 0.02848837 0.04244186\n",
            " 0.04767442 0.05232558 0.06569767 0.08372093 0.06511628 0.05988372\n",
            " 0.06104651 0.05465116 0.06046512 0.05290698 0.05465116 0.04825581\n",
            " 0.05290698 0.05348837 0.06627907 0.06686047 0.05988372 0.06627907\n",
            " 0.06686047 0.07616279 0.06511628 0.06627907 0.06860465 0.07209302\n",
            " 0.07616279 0.07034884 0.07383721 0.07383721 0.07151163 0.07034884\n",
            " 0.0872093  0.07093023 0.07151163 0.07790698 0.07790698 0.08430233\n",
            " 0.08488372 0.08546512 0.09709302 0.09767442 0.04011628 0.02906977\n",
            " 0.03604651 0.03313953 0.03372093 0.03662791 0.03895349 0.03837209\n",
            " 0.03430233 0.03313953 0.03081395 0.03197674 0.03197674 0.02790698\n",
            " 0.02093023 0.01802326 0.01627907 0.01453488 0.02089494 0.02232054\n",
            " 0.02512229 0.02835788 0.03171764 0.0350794  0.03838256 0.04160159\n",
            " 0.04473755 0.04781043 0.05085112 0.05389409 0.05697183 0.06011093\n",
            " 0.06333015 0.06663997 0.0700435  0.07353782 0.07711623 0.08076981\n",
            " 0.08448938 0.08826672 0.09209562 0.09597217 0.099895   0.10386508\n",
            " 0.10788535 0.11195998 0.11609432 0.12029403 0.12456483 0.12891234\n",
            " 0.13334189 0.1378585  0.14246686 0.14717159]\n",
            "5 day input [[0.15197715]]\n",
            "6 day input [0.02093023 0.02790698 0.02732558 0.02848837 0.04244186 0.04767442\n",
            " 0.05232558 0.06569767 0.08372093 0.06511628 0.05988372 0.06104651\n",
            " 0.05465116 0.06046512 0.05290698 0.05465116 0.04825581 0.05290698\n",
            " 0.05348837 0.06627907 0.06686047 0.05988372 0.06627907 0.06686047\n",
            " 0.07616279 0.06511628 0.06627907 0.06860465 0.07209302 0.07616279\n",
            " 0.07034884 0.07383721 0.07383721 0.07151163 0.07034884 0.0872093\n",
            " 0.07093023 0.07151163 0.07790698 0.07790698 0.08430233 0.08488372\n",
            " 0.08546512 0.09709302 0.09767442 0.04011628 0.02906977 0.03604651\n",
            " 0.03313953 0.03372093 0.03662791 0.03895349 0.03837209 0.03430233\n",
            " 0.03313953 0.03081395 0.03197674 0.03197674 0.02790698 0.02093023\n",
            " 0.01802326 0.01627907 0.01453488 0.02089494 0.02232054 0.02512229\n",
            " 0.02835788 0.03171764 0.0350794  0.03838256 0.04160159 0.04473755\n",
            " 0.04781043 0.05085112 0.05389409 0.05697183 0.06011093 0.06333015\n",
            " 0.06663997 0.0700435  0.07353782 0.07711623 0.08076981 0.08448938\n",
            " 0.08826672 0.09209562 0.09597217 0.099895   0.10386508 0.10788535\n",
            " 0.11195998 0.11609432 0.12029403 0.12456483 0.12891234 0.13334189\n",
            " 0.1378585  0.14246686 0.14717159 0.15197715]\n",
            "6 day input [[0.15688835]]\n",
            "7 day input [0.02790698 0.02732558 0.02848837 0.04244186 0.04767442 0.05232558\n",
            " 0.06569767 0.08372093 0.06511628 0.05988372 0.06104651 0.05465116\n",
            " 0.06046512 0.05290698 0.05465116 0.04825581 0.05290698 0.05348837\n",
            " 0.06627907 0.06686047 0.05988372 0.06627907 0.06686047 0.07616279\n",
            " 0.06511628 0.06627907 0.06860465 0.07209302 0.07616279 0.07034884\n",
            " 0.07383721 0.07383721 0.07151163 0.07034884 0.0872093  0.07093023\n",
            " 0.07151163 0.07790698 0.07790698 0.08430233 0.08488372 0.08546512\n",
            " 0.09709302 0.09767442 0.04011628 0.02906977 0.03604651 0.03313953\n",
            " 0.03372093 0.03662791 0.03895349 0.03837209 0.03430233 0.03313953\n",
            " 0.03081395 0.03197674 0.03197674 0.02790698 0.02093023 0.01802326\n",
            " 0.01627907 0.01453488 0.02089494 0.02232054 0.02512229 0.02835788\n",
            " 0.03171764 0.0350794  0.03838256 0.04160159 0.04473755 0.04781043\n",
            " 0.05085112 0.05389409 0.05697183 0.06011093 0.06333015 0.06663997\n",
            " 0.0700435  0.07353782 0.07711623 0.08076981 0.08448938 0.08826672\n",
            " 0.09209562 0.09597217 0.099895   0.10386508 0.10788535 0.11195998\n",
            " 0.11609432 0.12029403 0.12456483 0.12891234 0.13334189 0.1378585\n",
            " 0.14246686 0.14717159 0.15197715 0.15688835]\n",
            "7 day input [[0.16191007]]\n",
            "8 day input [0.02732558 0.02848837 0.04244186 0.04767442 0.05232558 0.06569767\n",
            " 0.08372093 0.06511628 0.05988372 0.06104651 0.05465116 0.06046512\n",
            " 0.05290698 0.05465116 0.04825581 0.05290698 0.05348837 0.06627907\n",
            " 0.06686047 0.05988372 0.06627907 0.06686047 0.07616279 0.06511628\n",
            " 0.06627907 0.06860465 0.07209302 0.07616279 0.07034884 0.07383721\n",
            " 0.07383721 0.07151163 0.07034884 0.0872093  0.07093023 0.07151163\n",
            " 0.07790698 0.07790698 0.08430233 0.08488372 0.08546512 0.09709302\n",
            " 0.09767442 0.04011628 0.02906977 0.03604651 0.03313953 0.03372093\n",
            " 0.03662791 0.03895349 0.03837209 0.03430233 0.03313953 0.03081395\n",
            " 0.03197674 0.03197674 0.02790698 0.02093023 0.01802326 0.01627907\n",
            " 0.01453488 0.02089494 0.02232054 0.02512229 0.02835788 0.03171764\n",
            " 0.0350794  0.03838256 0.04160159 0.04473755 0.04781043 0.05085112\n",
            " 0.05389409 0.05697183 0.06011093 0.06333015 0.06663997 0.0700435\n",
            " 0.07353782 0.07711623 0.08076981 0.08448938 0.08826672 0.09209562\n",
            " 0.09597217 0.099895   0.10386508 0.10788535 0.11195998 0.11609432\n",
            " 0.12029403 0.12456483 0.12891234 0.13334189 0.1378585  0.14246686\n",
            " 0.14717159 0.15197715 0.15688835 0.16191007]\n",
            "8 day input [[0.16704758]]\n",
            "9 day input [0.02848837 0.04244186 0.04767442 0.05232558 0.06569767 0.08372093\n",
            " 0.06511628 0.05988372 0.06104651 0.05465116 0.06046512 0.05290698\n",
            " 0.05465116 0.04825581 0.05290698 0.05348837 0.06627907 0.06686047\n",
            " 0.05988372 0.06627907 0.06686047 0.07616279 0.06511628 0.06627907\n",
            " 0.06860465 0.07209302 0.07616279 0.07034884 0.07383721 0.07383721\n",
            " 0.07151163 0.07034884 0.0872093  0.07093023 0.07151163 0.07790698\n",
            " 0.07790698 0.08430233 0.08488372 0.08546512 0.09709302 0.09767442\n",
            " 0.04011628 0.02906977 0.03604651 0.03313953 0.03372093 0.03662791\n",
            " 0.03895349 0.03837209 0.03430233 0.03313953 0.03081395 0.03197674\n",
            " 0.03197674 0.02790698 0.02093023 0.01802326 0.01627907 0.01453488\n",
            " 0.02089494 0.02232054 0.02512229 0.02835788 0.03171764 0.0350794\n",
            " 0.03838256 0.04160159 0.04473755 0.04781043 0.05085112 0.05389409\n",
            " 0.05697183 0.06011093 0.06333015 0.06663997 0.0700435  0.07353782\n",
            " 0.07711623 0.08076981 0.08448938 0.08826672 0.09209562 0.09597217\n",
            " 0.099895   0.10386508 0.10788535 0.11195998 0.11609432 0.12029403\n",
            " 0.12456483 0.12891234 0.13334189 0.1378585  0.14246686 0.14717159\n",
            " 0.15197715 0.15688835 0.16191007 0.16704758]\n",
            "9 day input [[0.17230667]]\n",
            "10 day input [0.04244186 0.04767442 0.05232558 0.06569767 0.08372093 0.06511628\n",
            " 0.05988372 0.06104651 0.05465116 0.06046512 0.05290698 0.05465116\n",
            " 0.04825581 0.05290698 0.05348837 0.06627907 0.06686047 0.05988372\n",
            " 0.06627907 0.06686047 0.07616279 0.06511628 0.06627907 0.06860465\n",
            " 0.07209302 0.07616279 0.07034884 0.07383721 0.07383721 0.07151163\n",
            " 0.07034884 0.0872093  0.07093023 0.07151163 0.07790698 0.07790698\n",
            " 0.08430233 0.08488372 0.08546512 0.09709302 0.09767442 0.04011628\n",
            " 0.02906977 0.03604651 0.03313953 0.03372093 0.03662791 0.03895349\n",
            " 0.03837209 0.03430233 0.03313953 0.03081395 0.03197674 0.03197674\n",
            " 0.02790698 0.02093023 0.01802326 0.01627907 0.01453488 0.02089494\n",
            " 0.02232054 0.02512229 0.02835788 0.03171764 0.0350794  0.03838256\n",
            " 0.04160159 0.04473755 0.04781043 0.05085112 0.05389409 0.05697183\n",
            " 0.06011093 0.06333015 0.06663997 0.0700435  0.07353782 0.07711623\n",
            " 0.08076981 0.08448938 0.08826672 0.09209562 0.09597217 0.099895\n",
            " 0.10386508 0.10788535 0.11195998 0.11609432 0.12029403 0.12456483\n",
            " 0.12891234 0.13334189 0.1378585  0.14246686 0.14717159 0.15197715\n",
            " 0.15688835 0.16191007 0.16704758 0.17230667]\n",
            "10 day input [[0.17769347]]\n",
            "11 day input [0.04767442 0.05232558 0.06569767 0.08372093 0.06511628 0.05988372\n",
            " 0.06104651 0.05465116 0.06046512 0.05290698 0.05465116 0.04825581\n",
            " 0.05290698 0.05348837 0.06627907 0.06686047 0.05988372 0.06627907\n",
            " 0.06686047 0.07616279 0.06511628 0.06627907 0.06860465 0.07209302\n",
            " 0.07616279 0.07034884 0.07383721 0.07383721 0.07151163 0.07034884\n",
            " 0.0872093  0.07093023 0.07151163 0.07790698 0.07790698 0.08430233\n",
            " 0.08488372 0.08546512 0.09709302 0.09767442 0.04011628 0.02906977\n",
            " 0.03604651 0.03313953 0.03372093 0.03662791 0.03895349 0.03837209\n",
            " 0.03430233 0.03313953 0.03081395 0.03197674 0.03197674 0.02790698\n",
            " 0.02093023 0.01802326 0.01627907 0.01453488 0.02089494 0.02232054\n",
            " 0.02512229 0.02835788 0.03171764 0.0350794  0.03838256 0.04160159\n",
            " 0.04473755 0.04781043 0.05085112 0.05389409 0.05697183 0.06011093\n",
            " 0.06333015 0.06663997 0.0700435  0.07353782 0.07711623 0.08076981\n",
            " 0.08448938 0.08826672 0.09209562 0.09597217 0.099895   0.10386508\n",
            " 0.10788535 0.11195998 0.11609432 0.12029403 0.12456483 0.12891234\n",
            " 0.13334189 0.1378585  0.14246686 0.14717159 0.15197715 0.15688835\n",
            " 0.16191007 0.16704758 0.17230667 0.17769347]\n",
            "11 day input [[0.18321474]]\n",
            "12 day input [0.05232558 0.06569767 0.08372093 0.06511628 0.05988372 0.06104651\n",
            " 0.05465116 0.06046512 0.05290698 0.05465116 0.04825581 0.05290698\n",
            " 0.05348837 0.06627907 0.06686047 0.05988372 0.06627907 0.06686047\n",
            " 0.07616279 0.06511628 0.06627907 0.06860465 0.07209302 0.07616279\n",
            " 0.07034884 0.07383721 0.07383721 0.07151163 0.07034884 0.0872093\n",
            " 0.07093023 0.07151163 0.07790698 0.07790698 0.08430233 0.08488372\n",
            " 0.08546512 0.09709302 0.09767442 0.04011628 0.02906977 0.03604651\n",
            " 0.03313953 0.03372093 0.03662791 0.03895349 0.03837209 0.03430233\n",
            " 0.03313953 0.03081395 0.03197674 0.03197674 0.02790698 0.02093023\n",
            " 0.01802326 0.01627907 0.01453488 0.02089494 0.02232054 0.02512229\n",
            " 0.02835788 0.03171764 0.0350794  0.03838256 0.04160159 0.04473755\n",
            " 0.04781043 0.05085112 0.05389409 0.05697183 0.06011093 0.06333015\n",
            " 0.06663997 0.0700435  0.07353782 0.07711623 0.08076981 0.08448938\n",
            " 0.08826672 0.09209562 0.09597217 0.099895   0.10386508 0.10788535\n",
            " 0.11195998 0.11609432 0.12029403 0.12456483 0.12891234 0.13334189\n",
            " 0.1378585  0.14246686 0.14717159 0.15197715 0.15688835 0.16191007\n",
            " 0.16704758 0.17230667 0.17769347 0.18321474]\n",
            "12 day input [[0.18887755]]\n",
            "13 day input [0.06569767 0.08372093 0.06511628 0.05988372 0.06104651 0.05465116\n",
            " 0.06046512 0.05290698 0.05465116 0.04825581 0.05290698 0.05348837\n",
            " 0.06627907 0.06686047 0.05988372 0.06627907 0.06686047 0.07616279\n",
            " 0.06511628 0.06627907 0.06860465 0.07209302 0.07616279 0.07034884\n",
            " 0.07383721 0.07383721 0.07151163 0.07034884 0.0872093  0.07093023\n",
            " 0.07151163 0.07790698 0.07790698 0.08430233 0.08488372 0.08546512\n",
            " 0.09709302 0.09767442 0.04011628 0.02906977 0.03604651 0.03313953\n",
            " 0.03372093 0.03662791 0.03895349 0.03837209 0.03430233 0.03313953\n",
            " 0.03081395 0.03197674 0.03197674 0.02790698 0.02093023 0.01802326\n",
            " 0.01627907 0.01453488 0.02089494 0.02232054 0.02512229 0.02835788\n",
            " 0.03171764 0.0350794  0.03838256 0.04160159 0.04473755 0.04781043\n",
            " 0.05085112 0.05389409 0.05697183 0.06011093 0.06333015 0.06663997\n",
            " 0.0700435  0.07353782 0.07711623 0.08076981 0.08448938 0.08826672\n",
            " 0.09209562 0.09597217 0.099895   0.10386508 0.10788535 0.11195998\n",
            " 0.11609432 0.12029403 0.12456483 0.12891234 0.13334189 0.1378585\n",
            " 0.14246686 0.14717159 0.15197715 0.15688835 0.16191007 0.16704758\n",
            " 0.17230667 0.17769347 0.18321474 0.18887755]\n",
            "13 day input [[0.1946896]]\n",
            "14 day input [0.08372093 0.06511628 0.05988372 0.06104651 0.05465116 0.06046512\n",
            " 0.05290698 0.05465116 0.04825581 0.05290698 0.05348837 0.06627907\n",
            " 0.06686047 0.05988372 0.06627907 0.06686047 0.07616279 0.06511628\n",
            " 0.06627907 0.06860465 0.07209302 0.07616279 0.07034884 0.07383721\n",
            " 0.07383721 0.07151163 0.07034884 0.0872093  0.07093023 0.07151163\n",
            " 0.07790698 0.07790698 0.08430233 0.08488372 0.08546512 0.09709302\n",
            " 0.09767442 0.04011628 0.02906977 0.03604651 0.03313953 0.03372093\n",
            " 0.03662791 0.03895349 0.03837209 0.03430233 0.03313953 0.03081395\n",
            " 0.03197674 0.03197674 0.02790698 0.02093023 0.01802326 0.01627907\n",
            " 0.01453488 0.02089494 0.02232054 0.02512229 0.02835788 0.03171764\n",
            " 0.0350794  0.03838256 0.04160159 0.04473755 0.04781043 0.05085112\n",
            " 0.05389409 0.05697183 0.06011093 0.06333015 0.06663997 0.0700435\n",
            " 0.07353782 0.07711623 0.08076981 0.08448938 0.08826672 0.09209562\n",
            " 0.09597217 0.099895   0.10386508 0.10788535 0.11195998 0.11609432\n",
            " 0.12029403 0.12456483 0.12891234 0.13334189 0.1378585  0.14246686\n",
            " 0.14717159 0.15197715 0.15688835 0.16191007 0.16704758 0.17230667\n",
            " 0.17769347 0.18321474 0.18887755 0.1946896 ]\n",
            "14 day input [[0.20065893]]\n",
            "15 day input [0.06511628 0.05988372 0.06104651 0.05465116 0.06046512 0.05290698\n",
            " 0.05465116 0.04825581 0.05290698 0.05348837 0.06627907 0.06686047\n",
            " 0.05988372 0.06627907 0.06686047 0.07616279 0.06511628 0.06627907\n",
            " 0.06860465 0.07209302 0.07616279 0.07034884 0.07383721 0.07383721\n",
            " 0.07151163 0.07034884 0.0872093  0.07093023 0.07151163 0.07790698\n",
            " 0.07790698 0.08430233 0.08488372 0.08546512 0.09709302 0.09767442\n",
            " 0.04011628 0.02906977 0.03604651 0.03313953 0.03372093 0.03662791\n",
            " 0.03895349 0.03837209 0.03430233 0.03313953 0.03081395 0.03197674\n",
            " 0.03197674 0.02790698 0.02093023 0.01802326 0.01627907 0.01453488\n",
            " 0.02089494 0.02232054 0.02512229 0.02835788 0.03171764 0.0350794\n",
            " 0.03838256 0.04160159 0.04473755 0.04781043 0.05085112 0.05389409\n",
            " 0.05697183 0.06011093 0.06333015 0.06663997 0.0700435  0.07353782\n",
            " 0.07711623 0.08076981 0.08448938 0.08826672 0.09209562 0.09597217\n",
            " 0.099895   0.10386508 0.10788535 0.11195998 0.11609432 0.12029403\n",
            " 0.12456483 0.12891234 0.13334189 0.1378585  0.14246686 0.14717159\n",
            " 0.15197715 0.15688835 0.16191007 0.16704758 0.17230667 0.17769347\n",
            " 0.18321474 0.18887755 0.1946896  0.20065893]\n",
            "15 day input [[0.20679407]]\n",
            "16 day input [0.05988372 0.06104651 0.05465116 0.06046512 0.05290698 0.05465116\n",
            " 0.04825581 0.05290698 0.05348837 0.06627907 0.06686047 0.05988372\n",
            " 0.06627907 0.06686047 0.07616279 0.06511628 0.06627907 0.06860465\n",
            " 0.07209302 0.07616279 0.07034884 0.07383721 0.07383721 0.07151163\n",
            " 0.07034884 0.0872093  0.07093023 0.07151163 0.07790698 0.07790698\n",
            " 0.08430233 0.08488372 0.08546512 0.09709302 0.09767442 0.04011628\n",
            " 0.02906977 0.03604651 0.03313953 0.03372093 0.03662791 0.03895349\n",
            " 0.03837209 0.03430233 0.03313953 0.03081395 0.03197674 0.03197674\n",
            " 0.02790698 0.02093023 0.01802326 0.01627907 0.01453488 0.02089494\n",
            " 0.02232054 0.02512229 0.02835788 0.03171764 0.0350794  0.03838256\n",
            " 0.04160159 0.04473755 0.04781043 0.05085112 0.05389409 0.05697183\n",
            " 0.06011093 0.06333015 0.06663997 0.0700435  0.07353782 0.07711623\n",
            " 0.08076981 0.08448938 0.08826672 0.09209562 0.09597217 0.099895\n",
            " 0.10386508 0.10788535 0.11195998 0.11609432 0.12029403 0.12456483\n",
            " 0.12891234 0.13334189 0.1378585  0.14246686 0.14717159 0.15197715\n",
            " 0.15688835 0.16191007 0.16704758 0.17230667 0.17769347 0.18321474\n",
            " 0.18887755 0.1946896  0.20065893 0.20679407]\n",
            "16 day input [[0.21310394]]\n",
            "17 day input [0.06104651 0.05465116 0.06046512 0.05290698 0.05465116 0.04825581\n",
            " 0.05290698 0.05348837 0.06627907 0.06686047 0.05988372 0.06627907\n",
            " 0.06686047 0.07616279 0.06511628 0.06627907 0.06860465 0.07209302\n",
            " 0.07616279 0.07034884 0.07383721 0.07383721 0.07151163 0.07034884\n",
            " 0.0872093  0.07093023 0.07151163 0.07790698 0.07790698 0.08430233\n",
            " 0.08488372 0.08546512 0.09709302 0.09767442 0.04011628 0.02906977\n",
            " 0.03604651 0.03313953 0.03372093 0.03662791 0.03895349 0.03837209\n",
            " 0.03430233 0.03313953 0.03081395 0.03197674 0.03197674 0.02790698\n",
            " 0.02093023 0.01802326 0.01627907 0.01453488 0.02089494 0.02232054\n",
            " 0.02512229 0.02835788 0.03171764 0.0350794  0.03838256 0.04160159\n",
            " 0.04473755 0.04781043 0.05085112 0.05389409 0.05697183 0.06011093\n",
            " 0.06333015 0.06663997 0.0700435  0.07353782 0.07711623 0.08076981\n",
            " 0.08448938 0.08826672 0.09209562 0.09597217 0.099895   0.10386508\n",
            " 0.10788535 0.11195998 0.11609432 0.12029403 0.12456483 0.12891234\n",
            " 0.13334189 0.1378585  0.14246686 0.14717159 0.15197715 0.15688835\n",
            " 0.16191007 0.16704758 0.17230667 0.17769347 0.18321474 0.18887755\n",
            " 0.1946896  0.20065893 0.20679407 0.21310394]\n",
            "17 day input [[0.21959795]]\n",
            "18 day input [0.05465116 0.06046512 0.05290698 0.05465116 0.04825581 0.05290698\n",
            " 0.05348837 0.06627907 0.06686047 0.05988372 0.06627907 0.06686047\n",
            " 0.07616279 0.06511628 0.06627907 0.06860465 0.07209302 0.07616279\n",
            " 0.07034884 0.07383721 0.07383721 0.07151163 0.07034884 0.0872093\n",
            " 0.07093023 0.07151163 0.07790698 0.07790698 0.08430233 0.08488372\n",
            " 0.08546512 0.09709302 0.09767442 0.04011628 0.02906977 0.03604651\n",
            " 0.03313953 0.03372093 0.03662791 0.03895349 0.03837209 0.03430233\n",
            " 0.03313953 0.03081395 0.03197674 0.03197674 0.02790698 0.02093023\n",
            " 0.01802326 0.01627907 0.01453488 0.02089494 0.02232054 0.02512229\n",
            " 0.02835788 0.03171764 0.0350794  0.03838256 0.04160159 0.04473755\n",
            " 0.04781043 0.05085112 0.05389409 0.05697183 0.06011093 0.06333015\n",
            " 0.06663997 0.0700435  0.07353782 0.07711623 0.08076981 0.08448938\n",
            " 0.08826672 0.09209562 0.09597217 0.099895   0.10386508 0.10788535\n",
            " 0.11195998 0.11609432 0.12029403 0.12456483 0.12891234 0.13334189\n",
            " 0.1378585  0.14246686 0.14717159 0.15197715 0.15688835 0.16191007\n",
            " 0.16704758 0.17230667 0.17769347 0.18321474 0.18887755 0.1946896\n",
            " 0.20065893 0.20679407 0.21310394 0.21959795]\n",
            "18 day input [[0.22628583]]\n",
            "19 day input [0.06046512 0.05290698 0.05465116 0.04825581 0.05290698 0.05348837\n",
            " 0.06627907 0.06686047 0.05988372 0.06627907 0.06686047 0.07616279\n",
            " 0.06511628 0.06627907 0.06860465 0.07209302 0.07616279 0.07034884\n",
            " 0.07383721 0.07383721 0.07151163 0.07034884 0.0872093  0.07093023\n",
            " 0.07151163 0.07790698 0.07790698 0.08430233 0.08488372 0.08546512\n",
            " 0.09709302 0.09767442 0.04011628 0.02906977 0.03604651 0.03313953\n",
            " 0.03372093 0.03662791 0.03895349 0.03837209 0.03430233 0.03313953\n",
            " 0.03081395 0.03197674 0.03197674 0.02790698 0.02093023 0.01802326\n",
            " 0.01627907 0.01453488 0.02089494 0.02232054 0.02512229 0.02835788\n",
            " 0.03171764 0.0350794  0.03838256 0.04160159 0.04473755 0.04781043\n",
            " 0.05085112 0.05389409 0.05697183 0.06011093 0.06333015 0.06663997\n",
            " 0.0700435  0.07353782 0.07711623 0.08076981 0.08448938 0.08826672\n",
            " 0.09209562 0.09597217 0.099895   0.10386508 0.10788535 0.11195998\n",
            " 0.11609432 0.12029403 0.12456483 0.12891234 0.13334189 0.1378585\n",
            " 0.14246686 0.14717159 0.15197715 0.15688835 0.16191007 0.16704758\n",
            " 0.17230667 0.17769347 0.18321474 0.18887755 0.1946896  0.20065893\n",
            " 0.20679407 0.21310394 0.21959795 0.22628583]\n",
            "19 day input [[0.2331777]]\n",
            "20 day input [0.05290698 0.05465116 0.04825581 0.05290698 0.05348837 0.06627907\n",
            " 0.06686047 0.05988372 0.06627907 0.06686047 0.07616279 0.06511628\n",
            " 0.06627907 0.06860465 0.07209302 0.07616279 0.07034884 0.07383721\n",
            " 0.07383721 0.07151163 0.07034884 0.0872093  0.07093023 0.07151163\n",
            " 0.07790698 0.07790698 0.08430233 0.08488372 0.08546512 0.09709302\n",
            " 0.09767442 0.04011628 0.02906977 0.03604651 0.03313953 0.03372093\n",
            " 0.03662791 0.03895349 0.03837209 0.03430233 0.03313953 0.03081395\n",
            " 0.03197674 0.03197674 0.02790698 0.02093023 0.01802326 0.01627907\n",
            " 0.01453488 0.02089494 0.02232054 0.02512229 0.02835788 0.03171764\n",
            " 0.0350794  0.03838256 0.04160159 0.04473755 0.04781043 0.05085112\n",
            " 0.05389409 0.05697183 0.06011093 0.06333015 0.06663997 0.0700435\n",
            " 0.07353782 0.07711623 0.08076981 0.08448938 0.08826672 0.09209562\n",
            " 0.09597217 0.099895   0.10386508 0.10788535 0.11195998 0.11609432\n",
            " 0.12029403 0.12456483 0.12891234 0.13334189 0.1378585  0.14246686\n",
            " 0.14717159 0.15197715 0.15688835 0.16191007 0.16704758 0.17230667\n",
            " 0.17769347 0.18321474 0.18887755 0.1946896  0.20065893 0.20679407\n",
            " 0.21310394 0.21959795 0.22628583 0.23317771]\n",
            "20 day input [[0.24028417]]\n",
            "21 day input [0.05465116 0.04825581 0.05290698 0.05348837 0.06627907 0.06686047\n",
            " 0.05988372 0.06627907 0.06686047 0.07616279 0.06511628 0.06627907\n",
            " 0.06860465 0.07209302 0.07616279 0.07034884 0.07383721 0.07383721\n",
            " 0.07151163 0.07034884 0.0872093  0.07093023 0.07151163 0.07790698\n",
            " 0.07790698 0.08430233 0.08488372 0.08546512 0.09709302 0.09767442\n",
            " 0.04011628 0.02906977 0.03604651 0.03313953 0.03372093 0.03662791\n",
            " 0.03895349 0.03837209 0.03430233 0.03313953 0.03081395 0.03197674\n",
            " 0.03197674 0.02790698 0.02093023 0.01802326 0.01627907 0.01453488\n",
            " 0.02089494 0.02232054 0.02512229 0.02835788 0.03171764 0.0350794\n",
            " 0.03838256 0.04160159 0.04473755 0.04781043 0.05085112 0.05389409\n",
            " 0.05697183 0.06011093 0.06333015 0.06663997 0.0700435  0.07353782\n",
            " 0.07711623 0.08076981 0.08448938 0.08826672 0.09209562 0.09597217\n",
            " 0.099895   0.10386508 0.10788535 0.11195998 0.11609432 0.12029403\n",
            " 0.12456483 0.12891234 0.13334189 0.1378585  0.14246686 0.14717159\n",
            " 0.15197715 0.15688835 0.16191007 0.16704758 0.17230667 0.17769347\n",
            " 0.18321474 0.18887755 0.1946896  0.20065893 0.20679407 0.21310394\n",
            " 0.21959795 0.22628583 0.23317771 0.24028417]\n",
            "21 day input [[0.24761625]]\n",
            "22 day input [0.04825581 0.05290698 0.05348837 0.06627907 0.06686047 0.05988372\n",
            " 0.06627907 0.06686047 0.07616279 0.06511628 0.06627907 0.06860465\n",
            " 0.07209302 0.07616279 0.07034884 0.07383721 0.07383721 0.07151163\n",
            " 0.07034884 0.0872093  0.07093023 0.07151163 0.07790698 0.07790698\n",
            " 0.08430233 0.08488372 0.08546512 0.09709302 0.09767442 0.04011628\n",
            " 0.02906977 0.03604651 0.03313953 0.03372093 0.03662791 0.03895349\n",
            " 0.03837209 0.03430233 0.03313953 0.03081395 0.03197674 0.03197674\n",
            " 0.02790698 0.02093023 0.01802326 0.01627907 0.01453488 0.02089494\n",
            " 0.02232054 0.02512229 0.02835788 0.03171764 0.0350794  0.03838256\n",
            " 0.04160159 0.04473755 0.04781043 0.05085112 0.05389409 0.05697183\n",
            " 0.06011093 0.06333015 0.06663997 0.0700435  0.07353782 0.07711623\n",
            " 0.08076981 0.08448938 0.08826672 0.09209562 0.09597217 0.099895\n",
            " 0.10386508 0.10788535 0.11195998 0.11609432 0.12029403 0.12456483\n",
            " 0.12891234 0.13334189 0.1378585  0.14246686 0.14717159 0.15197715\n",
            " 0.15688835 0.16191007 0.16704758 0.17230667 0.17769347 0.18321474\n",
            " 0.18887755 0.1946896  0.20065893 0.20679407 0.21310394 0.21959795\n",
            " 0.22628583 0.23317771 0.24028417 0.24761625]\n",
            "22 day input [[0.2551853]]\n",
            "23 day input [0.05290698 0.05348837 0.06627907 0.06686047 0.05988372 0.06627907\n",
            " 0.06686047 0.07616279 0.06511628 0.06627907 0.06860465 0.07209302\n",
            " 0.07616279 0.07034884 0.07383721 0.07383721 0.07151163 0.07034884\n",
            " 0.0872093  0.07093023 0.07151163 0.07790698 0.07790698 0.08430233\n",
            " 0.08488372 0.08546512 0.09709302 0.09767442 0.04011628 0.02906977\n",
            " 0.03604651 0.03313953 0.03372093 0.03662791 0.03895349 0.03837209\n",
            " 0.03430233 0.03313953 0.03081395 0.03197674 0.03197674 0.02790698\n",
            " 0.02093023 0.01802326 0.01627907 0.01453488 0.02089494 0.02232054\n",
            " 0.02512229 0.02835788 0.03171764 0.0350794  0.03838256 0.04160159\n",
            " 0.04473755 0.04781043 0.05085112 0.05389409 0.05697183 0.06011093\n",
            " 0.06333015 0.06663997 0.0700435  0.07353782 0.07711623 0.08076981\n",
            " 0.08448938 0.08826672 0.09209562 0.09597217 0.099895   0.10386508\n",
            " 0.10788535 0.11195998 0.11609432 0.12029403 0.12456483 0.12891234\n",
            " 0.13334189 0.1378585  0.14246686 0.14717159 0.15197715 0.15688835\n",
            " 0.16191007 0.16704758 0.17230667 0.17769347 0.18321474 0.18887755\n",
            " 0.1946896  0.20065893 0.20679407 0.21310394 0.21959795 0.22628583\n",
            " 0.23317771 0.24028417 0.24761625 0.25518531]\n",
            "23 day input [[0.26300326]]\n",
            "24 day input [0.05348837 0.06627907 0.06686047 0.05988372 0.06627907 0.06686047\n",
            " 0.07616279 0.06511628 0.06627907 0.06860465 0.07209302 0.07616279\n",
            " 0.07034884 0.07383721 0.07383721 0.07151163 0.07034884 0.0872093\n",
            " 0.07093023 0.07151163 0.07790698 0.07790698 0.08430233 0.08488372\n",
            " 0.08546512 0.09709302 0.09767442 0.04011628 0.02906977 0.03604651\n",
            " 0.03313953 0.03372093 0.03662791 0.03895349 0.03837209 0.03430233\n",
            " 0.03313953 0.03081395 0.03197674 0.03197674 0.02790698 0.02093023\n",
            " 0.01802326 0.01627907 0.01453488 0.02089494 0.02232054 0.02512229\n",
            " 0.02835788 0.03171764 0.0350794  0.03838256 0.04160159 0.04473755\n",
            " 0.04781043 0.05085112 0.05389409 0.05697183 0.06011093 0.06333015\n",
            " 0.06663997 0.0700435  0.07353782 0.07711623 0.08076981 0.08448938\n",
            " 0.08826672 0.09209562 0.09597217 0.099895   0.10386508 0.10788535\n",
            " 0.11195998 0.11609432 0.12029403 0.12456483 0.12891234 0.13334189\n",
            " 0.1378585  0.14246686 0.14717159 0.15197715 0.15688835 0.16191007\n",
            " 0.16704758 0.17230667 0.17769347 0.18321474 0.18887755 0.1946896\n",
            " 0.20065893 0.20679407 0.21310394 0.21959795 0.22628583 0.23317771\n",
            " 0.24028417 0.24761625 0.25518531 0.26300326]\n",
            "24 day input [[0.27108225]]\n",
            "25 day input [0.06627907 0.06686047 0.05988372 0.06627907 0.06686047 0.07616279\n",
            " 0.06511628 0.06627907 0.06860465 0.07209302 0.07616279 0.07034884\n",
            " 0.07383721 0.07383721 0.07151163 0.07034884 0.0872093  0.07093023\n",
            " 0.07151163 0.07790698 0.07790698 0.08430233 0.08488372 0.08546512\n",
            " 0.09709302 0.09767442 0.04011628 0.02906977 0.03604651 0.03313953\n",
            " 0.03372093 0.03662791 0.03895349 0.03837209 0.03430233 0.03313953\n",
            " 0.03081395 0.03197674 0.03197674 0.02790698 0.02093023 0.01802326\n",
            " 0.01627907 0.01453488 0.02089494 0.02232054 0.02512229 0.02835788\n",
            " 0.03171764 0.0350794  0.03838256 0.04160159 0.04473755 0.04781043\n",
            " 0.05085112 0.05389409 0.05697183 0.06011093 0.06333015 0.06663997\n",
            " 0.0700435  0.07353782 0.07711623 0.08076981 0.08448938 0.08826672\n",
            " 0.09209562 0.09597217 0.099895   0.10386508 0.10788535 0.11195998\n",
            " 0.11609432 0.12029403 0.12456483 0.12891234 0.13334189 0.1378585\n",
            " 0.14246686 0.14717159 0.15197715 0.15688835 0.16191007 0.16704758\n",
            " 0.17230667 0.17769347 0.18321474 0.18887755 0.1946896  0.20065893\n",
            " 0.20679407 0.21310394 0.21959795 0.22628583 0.23317771 0.24028417\n",
            " 0.24761625 0.25518531 0.26300326 0.27108225]\n",
            "25 day input [[0.27943507]]\n",
            "26 day input [0.06686047 0.05988372 0.06627907 0.06686047 0.07616279 0.06511628\n",
            " 0.06627907 0.06860465 0.07209302 0.07616279 0.07034884 0.07383721\n",
            " 0.07383721 0.07151163 0.07034884 0.0872093  0.07093023 0.07151163\n",
            " 0.07790698 0.07790698 0.08430233 0.08488372 0.08546512 0.09709302\n",
            " 0.09767442 0.04011628 0.02906977 0.03604651 0.03313953 0.03372093\n",
            " 0.03662791 0.03895349 0.03837209 0.03430233 0.03313953 0.03081395\n",
            " 0.03197674 0.03197674 0.02790698 0.02093023 0.01802326 0.01627907\n",
            " 0.01453488 0.02089494 0.02232054 0.02512229 0.02835788 0.03171764\n",
            " 0.0350794  0.03838256 0.04160159 0.04473755 0.04781043 0.05085112\n",
            " 0.05389409 0.05697183 0.06011093 0.06333015 0.06663997 0.0700435\n",
            " 0.07353782 0.07711623 0.08076981 0.08448938 0.08826672 0.09209562\n",
            " 0.09597217 0.099895   0.10386508 0.10788535 0.11195998 0.11609432\n",
            " 0.12029403 0.12456483 0.12891234 0.13334189 0.1378585  0.14246686\n",
            " 0.14717159 0.15197715 0.15688835 0.16191007 0.16704758 0.17230667\n",
            " 0.17769347 0.18321474 0.18887755 0.1946896  0.20065893 0.20679407\n",
            " 0.21310394 0.21959795 0.22628583 0.23317771 0.24028417 0.24761625\n",
            " 0.25518531 0.26300326 0.27108225 0.27943507]\n",
            "26 day input [[0.2880746]]\n",
            "27 day input [0.05988372 0.06627907 0.06686047 0.07616279 0.06511628 0.06627907\n",
            " 0.06860465 0.07209302 0.07616279 0.07034884 0.07383721 0.07383721\n",
            " 0.07151163 0.07034884 0.0872093  0.07093023 0.07151163 0.07790698\n",
            " 0.07790698 0.08430233 0.08488372 0.08546512 0.09709302 0.09767442\n",
            " 0.04011628 0.02906977 0.03604651 0.03313953 0.03372093 0.03662791\n",
            " 0.03895349 0.03837209 0.03430233 0.03313953 0.03081395 0.03197674\n",
            " 0.03197674 0.02790698 0.02093023 0.01802326 0.01627907 0.01453488\n",
            " 0.02089494 0.02232054 0.02512229 0.02835788 0.03171764 0.0350794\n",
            " 0.03838256 0.04160159 0.04473755 0.04781043 0.05085112 0.05389409\n",
            " 0.05697183 0.06011093 0.06333015 0.06663997 0.0700435  0.07353782\n",
            " 0.07711623 0.08076981 0.08448938 0.08826672 0.09209562 0.09597217\n",
            " 0.099895   0.10386508 0.10788535 0.11195998 0.11609432 0.12029403\n",
            " 0.12456483 0.12891234 0.13334189 0.1378585  0.14246686 0.14717159\n",
            " 0.15197715 0.15688835 0.16191007 0.16704758 0.17230667 0.17769347\n",
            " 0.18321474 0.18887755 0.1946896  0.20065893 0.20679407 0.21310394\n",
            " 0.21959795 0.22628583 0.23317771 0.24028417 0.24761625 0.25518531\n",
            " 0.26300326 0.27108225 0.27943507 0.28807461]\n",
            "27 day input [[0.29701412]]\n",
            "28 day input [0.06627907 0.06686047 0.07616279 0.06511628 0.06627907 0.06860465\n",
            " 0.07209302 0.07616279 0.07034884 0.07383721 0.07383721 0.07151163\n",
            " 0.07034884 0.0872093  0.07093023 0.07151163 0.07790698 0.07790698\n",
            " 0.08430233 0.08488372 0.08546512 0.09709302 0.09767442 0.04011628\n",
            " 0.02906977 0.03604651 0.03313953 0.03372093 0.03662791 0.03895349\n",
            " 0.03837209 0.03430233 0.03313953 0.03081395 0.03197674 0.03197674\n",
            " 0.02790698 0.02093023 0.01802326 0.01627907 0.01453488 0.02089494\n",
            " 0.02232054 0.02512229 0.02835788 0.03171764 0.0350794  0.03838256\n",
            " 0.04160159 0.04473755 0.04781043 0.05085112 0.05389409 0.05697183\n",
            " 0.06011093 0.06333015 0.06663997 0.0700435  0.07353782 0.07711623\n",
            " 0.08076981 0.08448938 0.08826672 0.09209562 0.09597217 0.099895\n",
            " 0.10386508 0.10788535 0.11195998 0.11609432 0.12029403 0.12456483\n",
            " 0.12891234 0.13334189 0.1378585  0.14246686 0.14717159 0.15197715\n",
            " 0.15688835 0.16191007 0.16704758 0.17230667 0.17769347 0.18321474\n",
            " 0.18887755 0.1946896  0.20065893 0.20679407 0.21310394 0.21959795\n",
            " 0.22628583 0.23317771 0.24028417 0.24761625 0.25518531 0.26300326\n",
            " 0.27108225 0.27943507 0.28807461 0.29701412]\n",
            "28 day input [[0.30626702]]\n",
            "29 day input [0.06686047 0.07616279 0.06511628 0.06627907 0.06860465 0.07209302\n",
            " 0.07616279 0.07034884 0.07383721 0.07383721 0.07151163 0.07034884\n",
            " 0.0872093  0.07093023 0.07151163 0.07790698 0.07790698 0.08430233\n",
            " 0.08488372 0.08546512 0.09709302 0.09767442 0.04011628 0.02906977\n",
            " 0.03604651 0.03313953 0.03372093 0.03662791 0.03895349 0.03837209\n",
            " 0.03430233 0.03313953 0.03081395 0.03197674 0.03197674 0.02790698\n",
            " 0.02093023 0.01802326 0.01627907 0.01453488 0.02089494 0.02232054\n",
            " 0.02512229 0.02835788 0.03171764 0.0350794  0.03838256 0.04160159\n",
            " 0.04473755 0.04781043 0.05085112 0.05389409 0.05697183 0.06011093\n",
            " 0.06333015 0.06663997 0.0700435  0.07353782 0.07711623 0.08076981\n",
            " 0.08448938 0.08826672 0.09209562 0.09597217 0.099895   0.10386508\n",
            " 0.10788535 0.11195998 0.11609432 0.12029403 0.12456483 0.12891234\n",
            " 0.13334189 0.1378585  0.14246686 0.14717159 0.15197715 0.15688835\n",
            " 0.16191007 0.16704758 0.17230667 0.17769347 0.18321474 0.18887755\n",
            " 0.1946896  0.20065893 0.20679407 0.21310394 0.21959795 0.22628583\n",
            " 0.23317771 0.24028417 0.24761625 0.25518531 0.26300326 0.27108225\n",
            " 0.27943507 0.28807461 0.29701412 0.30626702]\n",
            "29 day input [[0.31584692]]\n",
            "[[0.12891234457492828], [0.13334189355373383], [0.13785849511623383], [0.14246685802936554], [0.14717158675193787], [0.15197715163230896], [0.15688835084438324], [0.1619100719690323], [0.16704757511615753], [0.17230667173862457], [0.1776934713125229], [0.18321473896503448], [0.18887755274772644], [0.19468960165977478], [0.20065893232822418], [0.20679406821727753], [0.21310393512248993], [0.2195979505777359], [0.22628583014011383], [0.23317770659923553], [0.24028417468070984], [0.247616246342659], [0.2551853060722351], [0.26300325989723206], [0.2710822522640228], [0.27943506836891174], [0.2880746126174927], [0.29701411724090576], [0.30626702308654785], [0.31584692001342773]]\n"
          ]
        }
      ]
    },
    {
      "cell_type": "code",
      "source": [
        "day_new = np.arange(1,101)\n",
        "day_pred = np.arange(101,131)"
      ],
      "metadata": {
        "id": "ZPYPcVFQbffq"
      },
      "execution_count": 59,
      "outputs": []
    },
    {
      "cell_type": "code",
      "source": [
        "len(df1)"
      ],
      "metadata": {
        "colab": {
          "base_uri": "https://localhost:8080/"
        },
        "id": "JypVvWxzcmNd",
        "outputId": "b382fd33-40cc-4efa-f535-c0448ec7c577"
      },
      "execution_count": 60,
      "outputs": [
        {
          "output_type": "execute_result",
          "data": {
            "text/plain": [
              "1256"
            ]
          },
          "metadata": {},
          "execution_count": 60
        }
      ]
    },
    {
      "cell_type": "code",
      "source": [
        "df2 = df1.tolist()\n",
        "df2.extend(list_output)"
      ],
      "metadata": {
        "id": "AlOAxdnEc1R4"
      },
      "execution_count": 61,
      "outputs": []
    },
    {
      "cell_type": "code",
      "source": [
        "plt.plot(day_new, scaler.inverse_transform(df1[-100:]))\n",
        "plt.plot(day_pred, scaler.inverse_transform(list_output))"
      ],
      "metadata": {
        "colab": {
          "base_uri": "https://localhost:8080/",
          "height": 448
        },
        "id": "JWAd1L4PdGCu",
        "outputId": "7230f1bc-7fe6-40c8-d07e-88e5c918a33a"
      },
      "execution_count": 63,
      "outputs": [
        {
          "output_type": "execute_result",
          "data": {
            "text/plain": [
              "[<matplotlib.lines.Line2D at 0x7cd95bd86290>]"
            ]
          },
          "metadata": {},
          "execution_count": 63
        },
        {
          "output_type": "display_data",
          "data": {
            "text/plain": [
              "<Figure size 640x480 with 1 Axes>"
            ],
            "image/png": "[encoded data removed]"
          },
          "metadata": {}
        }
      ]
    },
    {
      "cell_type": "code",
      "source": [
        "df2 = df1.tolist()\n",
        "df2.extend(list_output)\n",
        "plt.plot(df2[:])"
      ],
      "metadata": {
        "colab": {
          "base_uri": "https://localhost:8080/",
          "height": 448
        },
        "id": "UkhdE8did1kU",
        "outputId": "322ec5e7-d970-4f89-feed-3e3d82739322"
      },
      "execution_count": 66,
      "outputs": [
        {
          "output_type": "execute_result",
          "data": {
            "text/plain": [
              "[<matplotlib.lines.Line2D at 0x7cd95bd38a60>]"
            ]
          },
          "metadata": {},
          "execution_count": 66
        },
        {
          "output_type": "display_data",
          "data": {
            "text/plain": [
              "<Figure size 640x480 with 1 Axes>"
            ],
            "image/png": "[encoded data removed]"
          },
          "metadata": {}
        }
      ]
    },
    {
      "cell_type": "code",
      "source": [],
      "metadata": {
        "id": "HvbS_a81eDWT"
      },
      "execution_count": null,
      "outputs": []
    }
  ],
  "metadata": {
    "accelerator": "GPU",
    "colab": {
      "provenance": [],
      "authorship_tag": "ABX9TyNvb54xz+DXQjWYWAQnkw5u",
      "include_colab_link": true
    },
    "kernelspec": {
      "display_name": "Python 3",
      "name": "python3"
    },
    "language_info": {
      "name": "python"
    }
  },
  "nbformat": 4,
  "nbformat_minor": 0
}